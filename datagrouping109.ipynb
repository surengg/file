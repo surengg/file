{
  "metadata": {
    "kernelspec": {
      "name": "python",
      "display_name": "Python (Pyodide)",
      "language": "python"
    },
    "language_info": {
      "codemirror_mode": {
        "name": "python",
        "version": 3
      },
      "file_extension": ".py",
      "mimetype": "text/x-python",
      "name": "python",
      "nbconvert_exporter": "python",
      "pygments_lexer": "ipython3",
      "version": "3.8"
    }
  },
  "nbformat_minor": 4,
  "nbformat": 4,
  "cells": [
    {
      "cell_type": "code",
      "source": "import pandas as pd\ndf = pd.DataFrame({'Animal' : ['Tiger','Lion','Cheetah','Deer'],\n                   'Max speed' : ['130','110','180','160']})\nprint(df)\n",
      "metadata": {
        "trusted": true
      },
      "outputs": [
        {
          "name": "stdout",
          "text": "    Animal Max speed\n0    Tiger       130\n1     Lion       110\n2  Cheetah       180\n3     Deer       160\n",
          "output_type": "stream"
        }
      ],
      "execution_count": 4
    },
    {
      "cell_type": "code",
      "source": "b=df.groupby(['Animal']).sum()\nprint(\"\\nOriginal DataFrame\\n\",df)\nprint(\"\\nGroup by through Column using sum\\n\",b)\n",
      "metadata": {
        "trusted": true
      },
      "outputs": [
        {
          "name": "stdout",
          "text": "\nOriginal DataFrame\n     Animal Max speed\n0    Tiger       130\n1     Lion       110\n2  Cheetah       180\n3     Deer       160\n\nGroup by through Column using sum\n         Max speed\nAnimal           \nCheetah       180\nDeer          160\nLion          110\nTiger         130\n",
          "output_type": "stream"
        }
      ],
      "execution_count": 5
    },
    {
      "cell_type": "code",
      "source": "c=df.groupby(['Animal']).count()\nprint(\"\\nOriginal DataFrame\\n\",df)\nprint(\"\\nGroup by through Column using count\\n\",c)\n",
      "metadata": {
        "trusted": true
      },
      "outputs": [
        {
          "name": "stdout",
          "text": "\nOriginal DataFrame\n     Animal Max speed\n0    Tiger       130\n1     Lion       110\n2  Cheetah       180\n3     Deer       160\n\nGroup by through Column using count\n          Max speed\nAnimal            \nCheetah          1\nDeer             1\nLion             1\nTiger            1\n",
          "output_type": "stream"
        }
      ],
      "execution_count": 6
    },
    {
      "cell_type": "code",
      "source": "d=df.groupby(['Animal']).first() \nprint(\"\\nOriginal DataFrame\\n\",df)\nprint(\"\\nGroup by through Column using first\\n\",d)\n",
      "metadata": {
        "trusted": true
      },
      "outputs": [
        {
          "name": "stdout",
          "text": "\nOriginal DataFrame\n     Animal Max speed\n0    Tiger       130\n1     Lion       110\n2  Cheetah       180\n3     Deer       160\n\nGroup by through Column using first\n         Max speed\nAnimal           \nCheetah       180\nDeer          160\nLion          110\nTiger         130\n",
          "output_type": "stream"
        }
      ],
      "execution_count": 7
    },
    {
      "cell_type": "code",
      "source": "e=df.groupby(['Animal']).last()\nprint(\"\\nOriginal DataFrame\\n\",df)\nprint(\"\\nGroup by through Column using last\\n\",e)",
      "metadata": {
        "trusted": true
      },
      "outputs": [
        {
          "name": "stdout",
          "text": "\nOriginal DataFrame\n     Animal Max speed\n0    Tiger       130\n1     Lion       110\n2  Cheetah       180\n3     Deer       160\n\nGroup by through Column using last\n         Max speed\nAnimal           \nCheetah       180\nDeer          160\nLion          110\nTiger         130\n",
          "output_type": "stream"
        }
      ],
      "execution_count": 8
    },
    {
      "cell_type": "code",
      "source": "f=df.groupby(['Animal']).size()\nprint(\"\\nOriginal DataFrame\\n\",df)\nprint(\"\\nGroup by through Column using size\\n\",f)",
      "metadata": {
        "trusted": true
      },
      "outputs": [
        {
          "name": "stdout",
          "text": "\nOriginal DataFrame\n     Animal Max speed\n0    Tiger       130\n1     Lion       110\n2  Cheetah       180\n3     Deer       160\n\nGroup by through Column using size\n Animal\nCheetah    1\nDeer       1\nLion       1\nTiger      1\ndtype: int64\n",
          "output_type": "stream"
        }
      ],
      "execution_count": 9
    },
    {
      "cell_type": "code",
      "source": "",
      "metadata": {
        "trusted": true
      },
      "outputs": [],
      "execution_count": null
    }
  ]
}