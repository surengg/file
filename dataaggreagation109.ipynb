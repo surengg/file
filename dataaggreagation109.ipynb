{
  "metadata": {
    "kernelspec": {
      "name": "python",
      "display_name": "Python (Pyodide)",
      "language": "python"
    },
    "language_info": {
      "codemirror_mode": {
        "name": "python",
        "version": 3
      },
      "file_extension": ".py",
      "mimetype": "text/x-python",
      "name": "python",
      "nbconvert_exporter": "python",
      "pygments_lexer": "ipython3",
      "version": "3.8"
    }
  },
  "nbformat_minor": 4,
  "nbformat": 4,
  "cells": [
    {
      "cell_type": "code",
      "source": "import pandas as pd\nimport numpy as np\ndf = pd.DataFrame([[1, 2, 3], [4, 5, 6], [7, 8, 9], [np.nan, np.nan, np.nan]], columns=['A', 'B', 'C']) \nprint(\"Original DataFrame\\n\",df)\nprint(\"Aggregate function: aggregate()\\n\", df.aggregate(['sum']))\nprint(\"Aggregate function: alias agg()\\n\", df.agg(['sum']))\n\n",
      "metadata": {
        "trusted": true
      },
      "outputs": [
        {
          "name": "stderr",
          "text": "<ipython-input-1-9da00449f8ce>:1: DeprecationWarning: \nPyarrow will become a required dependency of pandas in the next major release of pandas (pandas 3.0),\n(to allow more performant data types, such as the Arrow string type, and better interoperability with other libraries)\nbut was not found to be installed on your system.\nIf this would cause problems for you,\nplease provide us feedback at https://github.com/pandas-dev/pandas/issues/54466\n        \n  import pandas as pd\n",
          "output_type": "stream"
        },
        {
          "name": "stdout",
          "text": "Original DataFrame\n      A    B    C\n0  1.0  2.0  3.0\n1  4.0  5.0  6.0\n2  7.0  8.0  9.0\n3  NaN  NaN  NaN\nAggregate function: aggregate()\n         A     B     C\nsum  12.0  15.0  18.0\nAggregate function: alias agg()\n         A     B     C\nsum  12.0  15.0  18.0\n",
          "output_type": "stream"
        }
      ],
      "execution_count": 1
    },
    {
      "cell_type": "code",
      "source": "a=df.agg(['sum', 'min', 'max'])\nprint(\"\\nOriginal DataFrame\\n\",df)\nprint(\"\\nAggregate function to produce sum, min and max\\n\",a)\n",
      "metadata": {
        "trusted": true
      },
      "outputs": [
        {
          "name": "stdout",
          "text": "\nOriginal DataFrame\n      A    B    C\n0  1.0  2.0  3.0\n1  4.0  5.0  6.0\n2  7.0  8.0  9.0\n3  NaN  NaN  NaN\n\nAggregate function to produce sum, min and max\n         A     B     C\nsum  12.0  15.0  18.0\nmin   1.0   2.0   3.0\nmax   7.0   8.0   9.0\n",
          "output_type": "stream"
        }
      ],
      "execution_count": 2
    },
    {
      "cell_type": "code",
      "source": "b=df.agg({'A': ['sum', 'min'], 'B': ['min', 'max']})\nprint(\"\\nOriginal DataFrame\\n\",df)\nprint(\"\\nDifferent aggregations per column\\n\",b)",
      "metadata": {
        "trusted": true
      },
      "outputs": [
        {
          "name": "stdout",
          "text": "\nOriginal DataFrame\n      A    B    C\n0  1.0  2.0  3.0\n1  4.0  5.0  6.0\n2  7.0  8.0  9.0\n3  NaN  NaN  NaN\n\nDifferent aggregations per column\n         A    B\nsum  12.0  NaN\nmin   1.0  2.0\nmax   NaN  8.0\n",
          "output_type": "stream"
        }
      ],
      "execution_count": 6
    },
    {
      "cell_type": "code",
      "source": "c=df.agg(x=('A', max), y=('B', 'min'), z=('C', np.mean))\nprint(\"\\nOriginal DataFrame\\n\",df)\nprint(\"\\nAggregate different functions over the columns and rename the index of the resulting DataFrame\\n\",c)\n\n",
      "metadata": {
        "trusted": true
      },
      "outputs": [
        {
          "name": "stderr",
          "text": "<ipython-input-7-266d08dc0f86>:1: FutureWarning: The provided callable <built-in function max> is currently using Series.max. In a future version of pandas, the provided callable will be used directly. To keep current behavior pass the string \"max\" instead.\n  c=df.agg(x=('A', max), y=('B', 'min'), z=('C', np.mean))\n<ipython-input-7-266d08dc0f86>:1: FutureWarning: The provided callable <function mean at 0x2d2b900> is currently using Series.mean. In a future version of pandas, the provided callable will be used directly. To keep current behavior pass the string \"mean\" instead.\n  c=df.agg(x=('A', max), y=('B', 'min'), z=('C', np.mean))\n",
          "output_type": "stream"
        },
        {
          "name": "stdout",
          "text": "\nOriginal DataFrame\n      A    B    C\n0  1.0  2.0  3.0\n1  4.0  5.0  6.0\n2  7.0  8.0  9.0\n3  NaN  NaN  NaN\n\nAggregate different functions over the columns and rename the index of the resulting DataFrame\n      A    B    C\nx  7.0  NaN  NaN\ny  NaN  2.0  NaN\nz  NaN  NaN  6.0\n",
          "output_type": "stream"
        }
      ],
      "execution_count": 7
    },
    {
      "cell_type": "code",
      "source": "d=df.agg(\"sum\", axis=\"columns\")\nprint(\"\\nOriginal DataFrame\\n\",df)\nprint(\"\\nAggregate-Sum: row wise\\n\",d)",
      "metadata": {
        "trusted": true
      },
      "outputs": [
        {
          "name": "stdout",
          "text": "\nOriginal DataFrame\n      A    B    C\n0  1.0  2.0  3.0\n1  4.0  5.0  6.0\n2  7.0  8.0  9.0\n3  NaN  NaN  NaN\n\nAggregate-Sum: row wise\n 0     6.0\n1    15.0\n2    24.0\n3     0.0\ndtype: float64\n",
          "output_type": "stream"
        }
      ],
      "execution_count": 8
    },
    {
      "cell_type": "code",
      "source": " e=df.agg(\"sum\", axis=\"rows\")\nprint(\"\\nOriginal DataFrame\\n\",df)\nprint(\"\\nAggregate-Sum: Column wise\\n\", e)\n",
      "metadata": {
        "trusted": true
      },
      "outputs": [
        {
          "name": "stdout",
          "text": "\nOriginal DataFrame\n      A    B    C\n0  1.0  2.0  3.0\n1  4.0  5.0  6.0\n2  7.0  8.0  9.0\n3  NaN  NaN  NaN\n\nAggregate-Sum: Column wise\n A    12.0\nB    15.0\nC    18.0\ndtype: float64\n",
          "output_type": "stream"
        }
      ],
      "execution_count": 9
    },
    {
      "cell_type": "code",
      "source": "print(\"\\nOriginal DataFrame\\n\",df)\nprint(\"\\nSummary of aggregate functions using describe()\\n\",df.describe())",
      "metadata": {
        "trusted": true
      },
      "outputs": [
        {
          "name": "stdout",
          "text": "\nOriginal DataFrame\n      A    B    C\n0  1.0  2.0  3.0\n1  4.0  5.0  6.0\n2  7.0  8.0  9.0\n3  NaN  NaN  NaN\n\nSummary of aggregate functions using describe()\n          A    B    C\ncount  3.0  3.0  3.0\nmean   4.0  5.0  6.0\nstd    3.0  3.0  3.0\nmin    1.0  2.0  3.0\n25%    2.5  3.5  4.5\n50%    4.0  5.0  6.0\n75%    5.5  6.5  7.5\nmax    7.0  8.0  9.0\n",
          "output_type": "stream"
        }
      ],
      "execution_count": 10
    },
    {
      "cell_type": "code",
      "source": "",
      "metadata": {
        "trusted": true
      },
      "outputs": [],
      "execution_count": null
    }
  ]
}