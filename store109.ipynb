{
 "cells": [
  {
   "cell_type": "code",
   "execution_count": 15,
   "id": "bf094008",
   "metadata": {},
   "outputs": [
    {
     "name": "stdout",
     "output_type": "stream",
     "text": [
      "        a   b    c\n",
      "one    11   2  112\n",
      "two     1   2    3\n",
      "three  45  46   47\n"
     ]
    }
   ],
   "source": [
    "import pandas as pd\n",
    "df = pd.DataFrame([[11,2,112],[1,2,3],[45,46,47]],index=['one','two','three'],columns=['a','b','c'])\n",
    "print(df)\n"
   ]
  },
  {
   "cell_type": "code",
   "execution_count": 17,
   "id": "2c01bcd2",
   "metadata": {},
   "outputs": [
    {
     "name": "stdout",
     "output_type": "stream",
     "text": [
      "Taking the input from dataframe and storing in the excel file\n"
     ]
    }
   ],
   "source": [
    "print(\"Taking the input from dataframe and storing in the excel file\")\n",
    "df.to_excel('C:/Users/Tcs/Downloads/newpreadsheet.xlsx')"
   ]
  },
  {
   "cell_type": "code",
   "execution_count": 19,
   "id": "ed58c985",
   "metadata": {},
   "outputs": [],
   "source": [
    "d = pd.DataFrame([[63,64,65],[10,11,12],[7,8,9]],index=['four','five','six'],columns=['a','b','c'])\n",
    "d.to_excel('C:/Users/Tcs/Downloads/okpreadsheet.xlsx')"
   ]
  },
  {
   "cell_type": "code",
   "execution_count": 20,
   "id": "bbd09bcc",
   "metadata": {},
   "outputs": [
    {
     "name": "stderr",
     "output_type": "stream",
     "text": [
      "C:\\Users\\Tcs\\AppData\\Local\\Temp\\ipykernel_27284\\2935811788.py:3: FutureWarning: The frame.append method is deprecated and will be removed from pandas in a future version. Use pandas.concat instead.\n",
      "  z = x.append(y)\n"
     ]
    }
   ],
   "source": [
    "x = pd.read_excel('C:/Users/Tcs/Downloads/newpreadsheet.xlsx')\n",
    "y = pd.read_excel('C:/Users/Tcs/Downloads/okpreadsheet.xlsx')\n",
    "z = x.append(y)\n",
    "z.to_excel('C:/Users/Tcs/Downloads/mergepreadsheet.xlsx')"
   ]
  },
  {
   "cell_type": "code",
   "execution_count": 21,
   "id": "e19d0c6b",
   "metadata": {},
   "outputs": [
    {
     "name": "stdout",
     "output_type": "stream",
     "text": [
      "  Unnamed: 0   a   b    c\n",
      "1        two   1   2    3\n",
      "2        six   7   8    9\n",
      "1       five  10  11   12\n",
      "0        one  11   2  112\n",
      "2      three  45  46   47\n",
      "0       four  63  64   65\n"
     ]
    }
   ],
   "source": [
    "df = z.sort_values([\"a\"])\n",
    "print(df)\n",
    "df.to_excel('C:/Users/Tcs/Downloads/sortpreadsheet.xlsx')"
   ]
  },
  {
   "cell_type": "code",
   "execution_count": null,
   "id": "bec4704c",
   "metadata": {},
   "outputs": [],
   "source": []
  }
 ],
 "metadata": {
  "kernelspec": {
   "display_name": "Python 3 (ipykernel)",
   "language": "python",
   "name": "python3"
  },
  "language_info": {
   "codemirror_mode": {
    "name": "ipython",
    "version": 3
   },
   "file_extension": ".py",
   "mimetype": "text/x-python",
   "name": "python",
   "nbconvert_exporter": "python",
   "pygments_lexer": "ipython3",
   "version": "3.9.12"
  }
 },
 "nbformat": 4,
 "nbformat_minor": 5
}
