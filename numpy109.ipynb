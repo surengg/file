{
 "cells": [
  {
   "cell_type": "code",
   "execution_count": 2,
   "id": "c0651302",
   "metadata": {},
   "outputs": [
    {
     "name": "stdout",
     "output_type": "stream",
     "text": [
      "[[1 2 3 4]\n",
      " [5 6 7 8]\n",
      " [0 2 4 8]]\n"
     ]
    }
   ],
   "source": [
    "import numpy as np\n",
    "a=np.array([[1,2,3,4],[5,6,7,8],[0,2,4,8]])\n",
    "print(a)"
   ]
  },
  {
   "cell_type": "code",
   "execution_count": 4,
   "id": "1859101c",
   "metadata": {},
   "outputs": [
    {
     "name": "stdout",
     "output_type": "stream",
     "text": [
      "[[0. 0. 0.]\n",
      " [0. 0. 0.]\n",
      " [0. 0. 0.]\n",
      " [0. 0. 0.]]\n"
     ]
    }
   ],
   "source": [
    "b=np.zeros((4,3))\n",
    "print(b)"
   ]
  },
  {
   "cell_type": "code",
   "execution_count": 5,
   "id": "c0d8af83",
   "metadata": {},
   "outputs": [
    {
     "name": "stdout",
     "output_type": "stream",
     "text": [
      "[[3 3 3]\n",
      " [3 3 3]\n",
      " [3 3 3]\n",
      " [3 3 3]]\n"
     ]
    }
   ],
   "source": [
    "c=np.full((4,3),3)\n",
    "print(c)"
   ]
  },
  {
   "cell_type": "code",
   "execution_count": 10,
   "id": "68090502",
   "metadata": {},
   "outputs": [
    {
     "name": "stdout",
     "output_type": "stream",
     "text": [
      "[[0.68619212 0.22430132 0.71734634]\n",
      " [0.33128561 0.78612964 0.51658779]\n",
      " [0.81957196 0.05707727 0.83605305]\n",
      " [0.22997466 0.07668429 0.06041783]]\n"
     ]
    }
   ],
   "source": [
    "d=np.random.random((4,3))\n",
    "print(d)"
   ]
  },
  {
   "cell_type": "code",
   "execution_count": 12,
   "id": "aadd0355",
   "metadata": {},
   "outputs": [
    {
     "name": "stdout",
     "output_type": "stream",
     "text": [
      "[ 3  8 13 18 23 28 33]\n"
     ]
    }
   ],
   "source": [
    "e=np.arange(3,36,5)\n",
    "print(e)"
   ]
  },
  {
   "cell_type": "code",
   "execution_count": 16,
   "id": "4cd88ae3",
   "metadata": {},
   "outputs": [
    {
     "name": "stdout",
     "output_type": "stream",
     "text": [
      "[[3 3 3 3]\n",
      " [3 3 3 3]\n",
      " [3 3 3 3]]\n"
     ]
    }
   ],
   "source": [
    "print(c.reshape(3,4))"
   ]
  },
  {
   "cell_type": "code",
   "execution_count": 17,
   "id": "bca0a579",
   "metadata": {},
   "outputs": [
    {
     "name": "stdout",
     "output_type": "stream",
     "text": [
      "[3 3 3 3 3 3 3 3 3 3 3 3]\n"
     ]
    }
   ],
   "source": [
    "print(c.flatten())"
   ]
  },
  {
   "cell_type": "code",
   "execution_count": 18,
   "id": "744e566f",
   "metadata": {},
   "outputs": [
    {
     "name": "stdout",
     "output_type": "stream",
     "text": [
      "2\n"
     ]
    }
   ],
   "source": [
    "print(c.ndim)"
   ]
  },
  {
   "cell_type": "code",
   "execution_count": 19,
   "id": "af98b9a1",
   "metadata": {},
   "outputs": [
    {
     "name": "stdout",
     "output_type": "stream",
     "text": [
      "int32\n"
     ]
    }
   ],
   "source": [
    "print(c.dtype)"
   ]
  },
  {
   "cell_type": "code",
   "execution_count": 20,
   "id": "c7db2a9c",
   "metadata": {},
   "outputs": [
    {
     "name": "stdout",
     "output_type": "stream",
     "text": [
      "[[3. 3. 3.]\n",
      " [3. 3. 3.]\n",
      " [3. 3. 3.]\n",
      " [3. 3. 3.]]\n"
     ]
    }
   ],
   "source": [
    "print(c.astype('f'))"
   ]
  },
  {
   "cell_type": "code",
   "execution_count": 21,
   "id": "961c4c80",
   "metadata": {},
   "outputs": [
    {
     "name": "stdout",
     "output_type": "stream",
     "text": [
      "[[1 2 3 4]\n",
      " [0 2 4 8]]\n"
     ]
    }
   ],
   "source": [
    "print(a[0:3:2])"
   ]
  },
  {
   "cell_type": "code",
   "execution_count": 22,
   "id": "2cd3de6b",
   "metadata": {},
   "outputs": [
    {
     "name": "stdout",
     "output_type": "stream",
     "text": [
      "[[0 2 4 8]]\n"
     ]
    }
   ],
   "source": [
    "print(a[2::])"
   ]
  },
  {
   "cell_type": "code",
   "execution_count": 23,
   "id": "728121d6",
   "metadata": {},
   "outputs": [
    {
     "name": "stdout",
     "output_type": "stream",
     "text": [
      "[5 6 7 8]\n"
     ]
    }
   ],
   "source": [
    "print(a[1,0:4])"
   ]
  },
  {
   "cell_type": "code",
   "execution_count": 24,
   "id": "647e4bc3",
   "metadata": {},
   "outputs": [
    {
     "name": "stdout",
     "output_type": "stream",
     "text": [
      "[7 8]\n"
     ]
    }
   ],
   "source": [
    "print(a[1,2:4])"
   ]
  },
  {
   "cell_type": "code",
   "execution_count": 26,
   "id": "12ab6fa3",
   "metadata": {},
   "outputs": [
    {
     "name": "stdout",
     "output_type": "stream",
     "text": [
      "[2 4 8]\n"
     ]
    }
   ],
   "source": [
    "print(a[2,1:4])"
   ]
  },
  {
   "cell_type": "code",
   "execution_count": 27,
   "id": "d571a8d0",
   "metadata": {},
   "outputs": [
    {
     "name": "stdout",
     "output_type": "stream",
     "text": [
      "[[1 2 3 4]]\n"
     ]
    }
   ],
   "source": [
    "print(a[:1])"
   ]
  },
  {
   "cell_type": "code",
   "execution_count": 3,
   "id": "944152be",
   "metadata": {},
   "outputs": [
    {
     "name": "stdout",
     "output_type": "stream",
     "text": [
      "[[1 2 3 4]\n",
      " [2 3 4 5]\n",
      " [3 4 5 6]]\n"
     ]
    }
   ],
   "source": [
    "import numpy as np\n",
    "a=np.array([[1,2,3,4],[2,3,4,5],[3,4,5,6]])\n",
    "print(a)"
   ]
  },
  {
   "cell_type": "code",
   "execution_count": 5,
   "id": "66e73a87",
   "metadata": {},
   "outputs": [
    {
     "name": "stdout",
     "output_type": "stream",
     "text": [
      "[[2 3 4 5]]\n"
     ]
    }
   ],
   "source": [
    "print(a[1:3:2])"
   ]
  },
  {
   "cell_type": "code",
   "execution_count": 9,
   "id": "82702106",
   "metadata": {},
   "outputs": [
    {
     "name": "stdout",
     "output_type": "stream",
     "text": [
      "[[2 3 4 5]\n",
      " [3 4 5 6]]\n"
     ]
    }
   ],
   "source": [
    "print(a[1:3:1])"
   ]
  },
  {
   "cell_type": "code",
   "execution_count": 14,
   "id": "1e0f6ffd",
   "metadata": {},
   "outputs": [
    {
     "name": "stdout",
     "output_type": "stream",
     "text": [
      "[[1 2 3]\n",
      " [2 3 4]]\n"
     ]
    }
   ],
   "source": [
    "print(a[:2,:3]) #first 2 rows and 3 columns"
   ]
  },
  {
   "cell_type": "code",
   "execution_count": 13,
   "id": "17ced98b",
   "metadata": {},
   "outputs": [
    {
     "name": "stdout",
     "output_type": "stream",
     "text": [
      "[[1 2]\n",
      " [2 3]\n",
      " [3 4]]\n"
     ]
    }
   ],
   "source": [
    "print(a[:3,:2])"
   ]
  },
  {
   "cell_type": "code",
   "execution_count": 15,
   "id": "cb10bf79",
   "metadata": {},
   "outputs": [
    {
     "name": "stdout",
     "output_type": "stream",
     "text": [
      "[2 4 6]\n"
     ]
    }
   ],
   "source": [
    "print(a[[0,1,2],[1,2,3]]) #(0,1)(1,2)(2,3)"
   ]
  },
  {
   "cell_type": "code",
   "execution_count": 17,
   "id": "39bc496b",
   "metadata": {},
   "outputs": [
    {
     "name": "stdout",
     "output_type": "stream",
     "text": [
      "[4 4 4]\n"
     ]
    }
   ],
   "source": [
    "print(a[[0,1,2],[3,2,1]])"
   ]
  },
  {
   "cell_type": "code",
   "execution_count": 19,
   "id": "d0ae42be",
   "metadata": {},
   "outputs": [
    {
     "name": "stdout",
     "output_type": "stream",
     "text": [
      "[3 4 3 4 5 3 4 5 6]\n"
     ]
    }
   ],
   "source": [
    "cond=a>2\n",
    "print(a[cond]) #elements greater than 2"
   ]
  },
  {
   "cell_type": "code",
   "execution_count": 59,
   "id": "470f9a6a",
   "metadata": {},
   "outputs": [
    {
     "name": "stdout",
     "output_type": "stream",
     "text": [
      "[5 5 6]\n"
     ]
    }
   ],
   "source": [
    "\n",
    "print(a[a>=5])"
   ]
  },
  {
   "cell_type": "code",
   "execution_count": 29,
   "id": "e9a18285",
   "metadata": {},
   "outputs": [
    {
     "name": "stdout",
     "output_type": "stream",
     "text": [
      "[[1 2 3 4]\n",
      " [3 4 5 6]]\n"
     ]
    }
   ],
   "source": [
    "print(a[::2])"
   ]
  },
  {
   "cell_type": "code",
   "execution_count": 31,
   "id": "2cda8476",
   "metadata": {},
   "outputs": [
    {
     "name": "stdout",
     "output_type": "stream",
     "text": [
      "[[2 3 4 5]\n",
      " [3 4 5 6]]\n"
     ]
    }
   ],
   "source": [
    "print(a[1::])"
   ]
  },
  {
   "cell_type": "code",
   "execution_count": 34,
   "id": "093781a1",
   "metadata": {},
   "outputs": [
    {
     "name": "stdout",
     "output_type": "stream",
     "text": [
      "[[1 2 3 4]\n",
      " [2 3 4 5]]\n"
     ]
    }
   ],
   "source": [
    "print(a[:2:])"
   ]
  },
  {
   "cell_type": "code",
   "execution_count": 42,
   "id": "6d734d59",
   "metadata": {},
   "outputs": [
    {
     "name": "stdout",
     "output_type": "stream",
     "text": [
      "[2 3 4 5 6 7 8 9]\n"
     ]
    }
   ],
   "source": [
    "a1=np.array([6,7,8,9])\n",
    "a2=np.array([2,3,4,5])\n",
    "arr=np.concatenate((a2,a1))\n",
    "print(arr)"
   ]
  },
  {
   "cell_type": "code",
   "execution_count": 52,
   "id": "9a8419b4",
   "metadata": {},
   "outputs": [
    {
     "name": "stdout",
     "output_type": "stream",
     "text": [
      "[[6 7 8 9]\n",
      " [1 2 3 4]\n",
      " [2 3 4 5]\n",
      " [1 5 7 9]]\n"
     ]
    }
   ],
   "source": [
    "a3=np.array([[6,7,8,9],[1,2,3,4]])\n",
    "a4=np.array([[2,3,4,5],[1,5,7,9]])\n",
    "arr=np.concatenate((a3,a4))\n",
    "print(arr)"
   ]
  },
  {
   "cell_type": "code",
   "execution_count": 45,
   "id": "29da41b9",
   "metadata": {},
   "outputs": [
    {
     "name": "stdout",
     "output_type": "stream",
     "text": [
      "[6 7 8 9 2 3 4 5]\n"
     ]
    }
   ],
   "source": [
    "arr1=np.hstack((a1,a2))\n",
    "print(arr1)            #horizontal stack"
   ]
  },
  {
   "cell_type": "code",
   "execution_count": 47,
   "id": "c337ed5f",
   "metadata": {},
   "outputs": [
    {
     "name": "stdout",
     "output_type": "stream",
     "text": [
      "[[6 7 8 9]\n",
      " [2 3 4 5]]\n"
     ]
    }
   ],
   "source": [
    "arr1=np.vstack((a1,a2)) #vertical stack\n",
    "print(arr1)"
   ]
  },
  {
   "cell_type": "code",
   "execution_count": 49,
   "id": "f8d3c6c4",
   "metadata": {},
   "outputs": [
    {
     "name": "stdout",
     "output_type": "stream",
     "text": [
      "[[[6 2]\n",
      "  [7 3]\n",
      "  [8 4]\n",
      "  [9 5]]]\n"
     ]
    }
   ],
   "source": [
    "arr1=np.dstack((a1,a2)) #depth join\n",
    "print(arr1)"
   ]
  },
  {
   "cell_type": "code",
   "execution_count": 57,
   "id": "a9838cce",
   "metadata": {},
   "outputs": [
    {
     "name": "stdout",
     "output_type": "stream",
     "text": [
      "[array([1, 2, 3]), array([4, 5]), array([6, 7])]\n",
      "[1 2 3]\n",
      "[4 5]\n",
      "[6 7]\n"
     ]
    }
   ],
   "source": [
    "arr=np.array([1,2,3,4,5,6,7])\n",
    "a1=np.array_split(arr,3)\n",
    "print(a1)\n",
    "print(a1[0])\n",
    "print(a1[1])\n",
    "print(a1[2])"
   ]
  },
  {
   "cell_type": "code",
   "execution_count": 2,
   "id": "c48800a8",
   "metadata": {},
   "outputs": [
    {
     "name": "stdout",
     "output_type": "stream",
     "text": [
      "(array([4, 5, 6], dtype=int64),)\n"
     ]
    }
   ],
   "source": [
    "import numpy as np\n",
    "arr=np.array([1,2,3,4,5,5,5,6])\n",
    "print(np.where(arr==5))"
   ]
  },
  {
   "cell_type": "code",
   "execution_count": 32,
   "id": "92ba505c",
   "metadata": {},
   "outputs": [
    {
     "name": "stdout",
     "output_type": "stream",
     "text": [
      "(array([1, 3, 5, 7], dtype=int64),)\n"
     ]
    }
   ],
   "source": [
    "arr=np.array([1,2,3,4,5,6,7,8,9])\n",
    "x=np.where(arr%2==0)\n",
    "print(x)"
   ]
  },
  {
   "cell_type": "code",
   "execution_count": 33,
   "id": "07bab173",
   "metadata": {},
   "outputs": [
    {
     "name": "stdout",
     "output_type": "stream",
     "text": [
      "3\n"
     ]
    }
   ],
   "source": [
    "x=np.searchsorted(arr,4,side='left')\n",
    "print(x)"
   ]
  },
  {
   "cell_type": "code",
   "execution_count": 34,
   "id": "76d4cca8",
   "metadata": {},
   "outputs": [
    {
     "name": "stdout",
     "output_type": "stream",
     "text": [
      "4\n"
     ]
    }
   ],
   "source": [
    "x=np.searchsorted(arr,4,side='right')\n",
    "print(x)"
   ]
  },
  {
   "cell_type": "code",
   "execution_count": 35,
   "id": "9657b5d6",
   "metadata": {},
   "outputs": [
    {
     "name": "stdout",
     "output_type": "stream",
     "text": [
      "[1 4 5 6 7]\n"
     ]
    }
   ],
   "source": [
    "arr=np.array([4,7,1,5,6])\n",
    "print(np.sort(arr))"
   ]
  },
  {
   "cell_type": "code",
   "execution_count": 36,
   "id": "5ff9e2f2",
   "metadata": {},
   "outputs": [
    {
     "name": "stdout",
     "output_type": "stream",
     "text": [
      "[[1 2 7]\n",
      " [3 4 5]]\n"
     ]
    }
   ],
   "source": [
    "arr=np.array([[7,2,1],[4,3,5]])\n",
    "print(np.sort(arr))"
   ]
  },
  {
   "cell_type": "code",
   "execution_count": 37,
   "id": "5644e187",
   "metadata": {},
   "outputs": [
    {
     "name": "stdout",
     "output_type": "stream",
     "text": [
      "[41 43 45]\n"
     ]
    }
   ],
   "source": [
    "arr=np.array([41,42,43,44,45])\n",
    "x=[True,False,True,False,True]\n",
    "arr1=arr[x]\n",
    "print(arr1)"
   ]
  },
  {
   "cell_type": "code",
   "execution_count": 38,
   "id": "477e46c7",
   "metadata": {},
   "outputs": [
    {
     "name": "stdout",
     "output_type": "stream",
     "text": [
      "[4 5 6 7]\n"
     ]
    }
   ],
   "source": [
    "arr=np.array([4,5,6,7,1,2])\n",
    "x=arr>3\n",
    "arr1=arr[x]\n",
    "print(arr1)"
   ]
  },
  {
   "cell_type": "code",
   "execution_count": 39,
   "id": "da47ca32",
   "metadata": {},
   "outputs": [
    {
     "name": "stdout",
     "output_type": "stream",
     "text": [
      "[10 20 30 40 50 60]\n",
      "[ 3  6  9 12 15 18]\n"
     ]
    }
   ],
   "source": [
    "import numpy as np\n",
    "a=np.array([10,20,30,40,50,60])\n",
    "b=np.array([3,6,9,12,15,18])\n",
    "print(a)\n",
    "print(b)"
   ]
  },
  {
   "cell_type": "code",
   "execution_count": 40,
   "id": "c6f79125",
   "metadata": {},
   "outputs": [
    {
     "name": "stdout",
     "output_type": "stream",
     "text": [
      "[13 26 39 52 65 78]\n"
     ]
    }
   ],
   "source": [
    "print(a+b) #vector addition"
   ]
  },
  {
   "cell_type": "code",
   "execution_count": 41,
   "id": "5d49916f",
   "metadata": {},
   "outputs": [
    {
     "name": "stdout",
     "output_type": "stream",
     "text": [
      "[ 7 14 21 28 35 42]\n"
     ]
    }
   ],
   "source": [
    "print(a-b) #vector subtraction"
   ]
  },
  {
   "cell_type": "code",
   "execution_count": 42,
   "id": "c04295b7",
   "metadata": {},
   "outputs": [
    {
     "name": "stdout",
     "output_type": "stream",
     "text": [
      "[  30  120  270  480  750 1080]\n"
     ]
    }
   ],
   "source": [
    "print(a*b) #vector multiplication"
   ]
  },
  {
   "cell_type": "code",
   "execution_count": 43,
   "id": "32d49070",
   "metadata": {},
   "outputs": [
    {
     "name": "stdout",
     "output_type": "stream",
     "text": [
      "[5. 5. 6. 5. 5. 5.]\n"
     ]
    }
   ],
   "source": [
    "c=[2,4,5,8,10,12]\n",
    "print(a/c) #vector division"
   ]
  },
  {
   "cell_type": "code",
   "execution_count": 44,
   "id": "f0cdfae1",
   "metadata": {},
   "outputs": [
    {
     "name": "stdout",
     "output_type": "stream",
     "text": [
      "2730\n"
     ]
    }
   ],
   "source": [
    "print(a.dot(b)) #dot product"
   ]
  },
  {
   "cell_type": "code",
   "execution_count": 45,
   "id": "7e80d6a5",
   "metadata": {},
   "outputs": [
    {
     "name": "stdout",
     "output_type": "stream",
     "text": [
      "[ 50 100 150 200 250 300]\n"
     ]
    }
   ],
   "source": [
    "s=5    #scalar multiplication\n",
    "print(a*s)"
   ]
  },
  {
   "cell_type": "code",
   "execution_count": 49,
   "id": "9afbe7db",
   "metadata": {},
   "outputs": [
    {
     "name": "stdout",
     "output_type": "stream",
     "text": [
      "[ 8 16 90]\n"
     ]
    }
   ],
   "source": [
    "def func(x,y):\n",
    "    if(x>y):\n",
    "        return(x-y)\n",
    "    else:\n",
    "        return(x+y)          #vectorize method\n",
    "arr1=[10,20,30]\n",
    "arr2=[2,4,60]\n",
    "arr3=np.vectorize(func)\n",
    "print(arr3(arr1,arr2))"
   ]
  },
  {
   "cell_type": "code",
   "execution_count": 50,
   "id": "7f8e2877",
   "metadata": {},
   "outputs": [
    {
     "name": "stdout",
     "output_type": "stream",
     "text": [
      "[ 8 60 90]\n"
     ]
    }
   ],
   "source": [
    "def func(x,y):\n",
    "    if(x>y):\n",
    "        return(x-y)\n",
    "    else:\n",
    "        return(x+y)\n",
    "arr1=[10,20,30]\n",
    "arr2=[2,40,60]\n",
    "arr3=np.vectorize(func)\n",
    "print(arr3(arr1,arr2))"
   ]
  },
  {
   "cell_type": "code",
   "execution_count": null,
   "id": "9d05679f",
   "metadata": {},
   "outputs": [],
   "source": []
  }
 ],
 "metadata": {
  "kernelspec": {
   "display_name": "Python 3 (ipykernel)",
   "language": "python",
   "name": "python3"
  },
  "language_info": {
   "codemirror_mode": {
    "name": "ipython",
    "version": 3
   },
   "file_extension": ".py",
   "mimetype": "text/x-python",
   "name": "python",
   "nbconvert_exporter": "python",
   "pygments_lexer": "ipython3",
   "version": "3.9.13"
  }
 },
 "nbformat": 4,
 "nbformat_minor": 5
}
