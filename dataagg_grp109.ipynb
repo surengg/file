{
  "metadata": {
    "kernelspec": {
      "name": "python",
      "display_name": "Python (Pyodide)",
      "language": "python"
    },
    "language_info": {
      "codemirror_mode": {
        "name": "python",
        "version": 3
      },
      "file_extension": ".py",
      "mimetype": "text/x-python",
      "name": "python",
      "nbconvert_exporter": "python",
      "pygments_lexer": "ipython3",
      "version": "3.8"
    }
  },
  "nbformat_minor": 4,
  "nbformat": 4,
  "cells": [
    {
      "cell_type": "code",
      "source": "import pandas as pd\nimport numpy as np\ndf = pd.DataFrame({'A': ['sai', 'poo', 'sub', 'yuvi', 'rithi', 'sangu'],\n                   'B': ['one', 'two', 'three', 'one', 'three', 'two'],\n                   'C': np.random.randint(5, size=6),\n                   'D': np.random.randint(5, size=6),\n                   'E': np.random.randint(5, size=6)})\nprint(\"\\nOriginal DataFrame\\n\",df)\n",
      "metadata": {
        "trusted": true
      },
      "outputs": [
        {
          "name": "stdout",
          "text": "\nOriginal DataFrame\n        A      B  C  D  E\n0    sai    one  4  0  4\n1    poo    two  0  3  2\n2    sub  three  4  4  0\n3   yuvi    one  0  4  4\n4  rithi  three  0  3  3\n5  sangu    two  3  1  2\n",
          "output_type": "stream"
        }
      ],
      "execution_count": 9
    },
    {
      "cell_type": "code",
      "source": "df1 = df.groupby(['A', 'B'], as_index=False)['C'].sum()\nprint(\"\\nOriginal DataFrame\\n\",df)\nprint(\"\\nGroup by (multi-column): with one column sum\\n\",df1)",
      "metadata": {
        "trusted": true
      },
      "outputs": [
        {
          "name": "stdout",
          "text": "\nOriginal DataFrame\n        A      B  C  D  E\n0    sai    one  4  0  4\n1    poo    two  0  3  2\n2    sub  three  4  4  0\n3   yuvi    one  0  4  4\n4  rithi  three  0  3  3\n5  sangu    two  3  1  2\n\nGroup by (multi-column): with one column sum\n        A      B  C\n0    poo    two  0\n1  rithi  three  0\n2    sai    one  4\n3  sangu    two  3\n4    sub  three  4\n5   yuvi    one  0\n",
          "output_type": "stream"
        }
      ],
      "execution_count": 10
    },
    {
      "cell_type": "code",
      "source": "df2 = df.groupby(['A', 'B'], as_index=False).sum()\nprint(\"\\nOriginal DataFrame\\n\",df)\nprint(\"\\nGroup by (multi-column): with multi columns sum\\n\",df2)",
      "metadata": {
        "trusted": true
      },
      "outputs": [
        {
          "name": "stdout",
          "text": "\nOriginal DataFrame\n        A      B  C  D  E\n0    sai    one  4  0  4\n1    poo    two  0  3  2\n2    sub  three  4  4  0\n3   yuvi    one  0  4  4\n4  rithi  three  0  3  3\n5  sangu    two  3  1  2\n\nGroup by (multi-column): with multi columns sum\n        A      B  C  D  E\n0    poo    two  0  3  2\n1  rithi  three  0  3  3\n2    sai    one  4  0  4\n3  sangu    two  3  1  2\n4    sub  three  4  4  0\n5   yuvi    one  0  4  4\n",
          "output_type": "stream"
        }
      ],
      "execution_count": 11
    },
    {
      "cell_type": "code",
      "source": "df3 = df.groupby(['A', 'B'], as_index=False)['C'].agg('sum')\nprint(\"\\nOriginal DataFrame\\n\",df)\nprint(\"\\nCombined Groupby and Aggregate function\\n\",df3)",
      "metadata": {
        "trusted": true
      },
      "outputs": [
        {
          "name": "stdout",
          "text": "\nOriginal DataFrame\n        A      B  C  D  E\n0    sai    one  4  0  4\n1    poo    two  0  3  2\n2    sub  three  4  4  0\n3   yuvi    one  0  4  4\n4  rithi  three  0  3  3\n5  sangu    two  3  1  2\n\nCombined Groupby and Aggregate function\n        A      B  C\n0    poo    two  0\n1  rithi  three  0\n2    sai    one  4\n3  sangu    two  3\n4    sub  three  4\n5   yuvi    one  0\n",
          "output_type": "stream"
        }
      ],
      "execution_count": 14
    },
    {
      "cell_type": "code",
      "source": "df4 = (df.groupby(['A', 'B']).agg([('average', 'mean'), ('total', 'sum')]))\nprint(\"\\nOriginal DataFrame\\n\",df)\nprint(\"\\nCombined Groupby and Aggregate function-separate column headings\\n\",df4)",
      "metadata": {
        "trusted": true
      },
      "outputs": [
        {
          "name": "stdout",
          "text": "\nOriginal DataFrame\n        A      B  C  D  E\n0    sai    one  4  0  4\n1    poo    two  0  3  2\n2    sub  three  4  4  0\n3   yuvi    one  0  4  4\n4  rithi  three  0  3  3\n5  sangu    two  3  1  2\n\nCombined Groupby and Aggregate function-separate column headings\n                   C             D             E      \n            average total average total average total\nA     B                                              \npoo   two       0.0     0     3.0     3     2.0     2\nrithi three     0.0     0     3.0     3     3.0     3\nsai   one       4.0     4     0.0     0     4.0     4\nsangu two       3.0     3     1.0     1     2.0     2\nsub   three     4.0     4     4.0     4     0.0     0\nyuvi  one       0.0     0     4.0     4     4.0     4\n",
          "output_type": "stream"
        }
      ],
      "execution_count": 17
    },
    {
      "cell_type": "code",
      "source": "df5 = df.groupby(['A', 'B'], as_index=False).sum()\ndf6 = (df.groupby(['A', 'B']).agg(['sum']))\nprint(\"\\nOriginal DataFrame\\n\",df)\nprint(\"\\nGroupby-sum function\\n\",df5)\nprint(\"\\nGroupby and Aggregate - sum function\\n\",df6)",
      "metadata": {
        "trusted": true
      },
      "outputs": [
        {
          "name": "stdout",
          "text": "\nOriginal DataFrame\n        A      B  C  D  E\n0    sai    one  4  0  4\n1    poo    two  0  3  2\n2    sub  three  4  4  0\n3   yuvi    one  0  4  4\n4  rithi  three  0  3  3\n5  sangu    two  3  1  2\n\nGroupby-sum function\n        A      B  C  D  E\n0    poo    two  0  3  2\n1  rithi  three  0  3  3\n2    sai    one  4  0  4\n3  sangu    two  3  1  2\n4    sub  three  4  4  0\n5   yuvi    one  0  4  4\n\nGroupby and Aggregate - sum function\n               C   D   E\n            sum sum sum\nA     B                \npoo   two     0   3   2\nrithi three   0   3   3\nsai   one     4   0   4\nsangu two     3   1   2\nsub   three   4   4   0\nyuvi  one     0   4   4\n",
          "output_type": "stream"
        }
      ],
      "execution_count": 19
    },
    {
      "cell_type": "code",
      "source": "",
      "metadata": {
        "trusted": true
      },
      "outputs": [],
      "execution_count": null
    }
  ]
}