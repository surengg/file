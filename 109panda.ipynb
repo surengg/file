{
 "cells": [
  {
   "cell_type": "code",
   "execution_count": 1,
   "id": "fd961362",
   "metadata": {},
   "outputs": [
    {
     "name": "stdout",
     "output_type": "stream",
     "text": [
      "DataFrame.apply function:\n",
      "\n",
      "Original Dataframe:\n",
      "    P  Q\n",
      "0  2  7\n",
      "1  2  7\n",
      "2  2  7\n",
      "Sq. root:\n",
      "           P         Q\n",
      "0  1.414214  2.645751\n",
      "1  1.414214  2.645751\n",
      "2  1.414214  2.645751\n",
      "\n",
      "Sum of each column:\n",
      " P     6\n",
      "Q    21\n",
      "dtype: int64\n",
      "\n",
      "Sum of each row:\n",
      " 0    9\n",
      "1    9\n",
      "2    9\n",
      "dtype: int64\n"
     ]
    }
   ],
   "source": [
    "import pandas as pd\n",
    "import numpy as np\n",
    "print(\"DataFrame.apply function:\\n\")\n",
    "info = pd.DataFrame([[2,7]]*3,columns=['P','Q'])\n",
    "print(\"Original Dataframe:\\n\",info)\n",
    "print(\"Sq. root:\\n\",info.apply(np.sqrt))\n",
    "print(\"\\nSum of each column:\\n\",info.apply(np.sum,axis=0))\n",
    "print(\"\\nSum of each row:\\n\",info.apply(np.sum,axis=1))"
   ]
  },
  {
   "cell_type": "code",
   "execution_count": 2,
   "id": "c93f969d",
   "metadata": {},
   "outputs": [
    {
     "name": "stdout",
     "output_type": "stream",
     "text": [
      "Original Dataframe:\n",
      "    P  Q\n",
      "0  1  2\n",
      "1  3  4\n",
      "2  5  6\n"
     ]
    }
   ],
   "source": [
    "info = pd.DataFrame([[1,2],[3,4],[5,6]],columns=['P','Q'])\n",
    "print(\"Original Dataframe:\\n\",info)"
   ]
  },
  {
   "cell_type": "code",
   "execution_count": 3,
   "id": "37fdce8b",
   "metadata": {},
   "outputs": [
    {
     "ename": "ValueError",
     "evalue": "3 columns passed, passed data had 2 columns",
     "output_type": "error",
     "traceback": [
      "\u001b[1;31m---------------------------------------------------------------------------\u001b[0m",
      "\u001b[1;31mAssertionError\u001b[0m                            Traceback (most recent call last)",
      "File \u001b[1;32m~\\anaconda3\\lib\\site-packages\\pandas\\core\\internals\\construction.py:982\u001b[0m, in \u001b[0;36m_finalize_columns_and_data\u001b[1;34m(content, columns, dtype)\u001b[0m\n\u001b[0;32m    981\u001b[0m \u001b[38;5;28;01mtry\u001b[39;00m:\n\u001b[1;32m--> 982\u001b[0m     columns \u001b[38;5;241m=\u001b[39m \u001b[43m_validate_or_indexify_columns\u001b[49m\u001b[43m(\u001b[49m\u001b[43mcontents\u001b[49m\u001b[43m,\u001b[49m\u001b[43m \u001b[49m\u001b[43mcolumns\u001b[49m\u001b[43m)\u001b[49m\n\u001b[0;32m    983\u001b[0m \u001b[38;5;28;01mexcept\u001b[39;00m \u001b[38;5;167;01mAssertionError\u001b[39;00m \u001b[38;5;28;01mas\u001b[39;00m err:\n\u001b[0;32m    984\u001b[0m     \u001b[38;5;66;03m# GH#26429 do not raise user-facing AssertionError\u001b[39;00m\n",
      "File \u001b[1;32m~\\anaconda3\\lib\\site-packages\\pandas\\core\\internals\\construction.py:1030\u001b[0m, in \u001b[0;36m_validate_or_indexify_columns\u001b[1;34m(content, columns)\u001b[0m\n\u001b[0;32m   1028\u001b[0m \u001b[38;5;28;01mif\u001b[39;00m \u001b[38;5;129;01mnot\u001b[39;00m is_mi_list \u001b[38;5;129;01mand\u001b[39;00m \u001b[38;5;28mlen\u001b[39m(columns) \u001b[38;5;241m!=\u001b[39m \u001b[38;5;28mlen\u001b[39m(content):  \u001b[38;5;66;03m# pragma: no cover\u001b[39;00m\n\u001b[0;32m   1029\u001b[0m     \u001b[38;5;66;03m# caller's responsibility to check for this...\u001b[39;00m\n\u001b[1;32m-> 1030\u001b[0m     \u001b[38;5;28;01mraise\u001b[39;00m \u001b[38;5;167;01mAssertionError\u001b[39;00m(\n\u001b[0;32m   1031\u001b[0m         \u001b[38;5;124mf\u001b[39m\u001b[38;5;124m\"\u001b[39m\u001b[38;5;132;01m{\u001b[39;00m\u001b[38;5;28mlen\u001b[39m(columns)\u001b[38;5;132;01m}\u001b[39;00m\u001b[38;5;124m columns passed, passed data had \u001b[39m\u001b[38;5;124m\"\u001b[39m\n\u001b[0;32m   1032\u001b[0m         \u001b[38;5;124mf\u001b[39m\u001b[38;5;124m\"\u001b[39m\u001b[38;5;132;01m{\u001b[39;00m\u001b[38;5;28mlen\u001b[39m(content)\u001b[38;5;132;01m}\u001b[39;00m\u001b[38;5;124m columns\u001b[39m\u001b[38;5;124m\"\u001b[39m\n\u001b[0;32m   1033\u001b[0m     )\n\u001b[0;32m   1034\u001b[0m \u001b[38;5;28;01melif\u001b[39;00m is_mi_list:\n\u001b[0;32m   1035\u001b[0m \n\u001b[0;32m   1036\u001b[0m     \u001b[38;5;66;03m# check if nested list column, length of each sub-list should be equal\u001b[39;00m\n",
      "\u001b[1;31mAssertionError\u001b[0m: 3 columns passed, passed data had 2 columns",
      "\nThe above exception was the direct cause of the following exception:\n",
      "\u001b[1;31mValueError\u001b[0m                                Traceback (most recent call last)",
      "Input \u001b[1;32mIn [3]\u001b[0m, in \u001b[0;36m<cell line: 1>\u001b[1;34m()\u001b[0m\n\u001b[1;32m----> 1\u001b[0m info \u001b[38;5;241m=\u001b[39m \u001b[43mpd\u001b[49m\u001b[38;5;241;43m.\u001b[39;49m\u001b[43mDataFrame\u001b[49m\u001b[43m(\u001b[49m\u001b[43m[\u001b[49m\u001b[43m[\u001b[49m\u001b[38;5;241;43m1\u001b[39;49m\u001b[43m,\u001b[49m\u001b[38;5;241;43m2\u001b[39;49m\u001b[43m]\u001b[49m\u001b[43m,\u001b[49m\u001b[43m[\u001b[49m\u001b[38;5;241;43m3\u001b[39;49m\u001b[43m,\u001b[49m\u001b[38;5;241;43m4\u001b[39;49m\u001b[43m]\u001b[49m\u001b[43m,\u001b[49m\u001b[43m[\u001b[49m\u001b[38;5;241;43m5\u001b[39;49m\u001b[43m,\u001b[49m\u001b[38;5;241;43m6\u001b[39;49m\u001b[43m]\u001b[49m\u001b[43m]\u001b[49m\u001b[43m,\u001b[49m\u001b[43mcolumns\u001b[49m\u001b[38;5;241;43m=\u001b[39;49m\u001b[43m[\u001b[49m\u001b[38;5;124;43m'\u001b[39;49m\u001b[38;5;124;43mP\u001b[39;49m\u001b[38;5;124;43m'\u001b[39;49m\u001b[43m,\u001b[49m\u001b[38;5;124;43m'\u001b[39;49m\u001b[38;5;124;43mQ\u001b[39;49m\u001b[38;5;124;43m'\u001b[39;49m\u001b[43m,\u001b[49m\u001b[38;5;124;43m'\u001b[39;49m\u001b[38;5;124;43mR\u001b[39;49m\u001b[38;5;124;43m'\u001b[39;49m\u001b[43m]\u001b[49m\u001b[43m)\u001b[49m\n\u001b[0;32m      2\u001b[0m \u001b[38;5;28mprint\u001b[39m(\u001b[38;5;124m\"\u001b[39m\u001b[38;5;124mOriginal Dataframe:\u001b[39m\u001b[38;5;130;01m\\n\u001b[39;00m\u001b[38;5;124m\"\u001b[39m,info)\n",
      "File \u001b[1;32m~\\anaconda3\\lib\\site-packages\\pandas\\core\\frame.py:721\u001b[0m, in \u001b[0;36mDataFrame.__init__\u001b[1;34m(self, data, index, columns, dtype, copy)\u001b[0m\n\u001b[0;32m    716\u001b[0m     \u001b[38;5;28;01mif\u001b[39;00m columns \u001b[38;5;129;01mis\u001b[39;00m \u001b[38;5;129;01mnot\u001b[39;00m \u001b[38;5;28;01mNone\u001b[39;00m:\n\u001b[0;32m    717\u001b[0m         \u001b[38;5;66;03m# error: Argument 1 to \"ensure_index\" has incompatible type\u001b[39;00m\n\u001b[0;32m    718\u001b[0m         \u001b[38;5;66;03m# \"Collection[Any]\"; expected \"Union[Union[Union[ExtensionArray,\u001b[39;00m\n\u001b[0;32m    719\u001b[0m         \u001b[38;5;66;03m# ndarray], Index, Series], Sequence[Any]]\"\u001b[39;00m\n\u001b[0;32m    720\u001b[0m         columns \u001b[38;5;241m=\u001b[39m ensure_index(columns)  \u001b[38;5;66;03m# type: ignore[arg-type]\u001b[39;00m\n\u001b[1;32m--> 721\u001b[0m     arrays, columns, index \u001b[38;5;241m=\u001b[39m \u001b[43mnested_data_to_arrays\u001b[49m\u001b[43m(\u001b[49m\n\u001b[0;32m    722\u001b[0m \u001b[43m        \u001b[49m\u001b[38;5;66;43;03m# error: Argument 3 to \"nested_data_to_arrays\" has incompatible\u001b[39;49;00m\n\u001b[0;32m    723\u001b[0m \u001b[43m        \u001b[49m\u001b[38;5;66;43;03m# type \"Optional[Collection[Any]]\"; expected \"Optional[Index]\"\u001b[39;49;00m\n\u001b[0;32m    724\u001b[0m \u001b[43m        \u001b[49m\u001b[43mdata\u001b[49m\u001b[43m,\u001b[49m\n\u001b[0;32m    725\u001b[0m \u001b[43m        \u001b[49m\u001b[43mcolumns\u001b[49m\u001b[43m,\u001b[49m\n\u001b[0;32m    726\u001b[0m \u001b[43m        \u001b[49m\u001b[43mindex\u001b[49m\u001b[43m,\u001b[49m\u001b[43m  \u001b[49m\u001b[38;5;66;43;03m# type: ignore[arg-type]\u001b[39;49;00m\n\u001b[0;32m    727\u001b[0m \u001b[43m        \u001b[49m\u001b[43mdtype\u001b[49m\u001b[43m,\u001b[49m\n\u001b[0;32m    728\u001b[0m \u001b[43m    \u001b[49m\u001b[43m)\u001b[49m\n\u001b[0;32m    729\u001b[0m     mgr \u001b[38;5;241m=\u001b[39m arrays_to_mgr(\n\u001b[0;32m    730\u001b[0m         arrays,\n\u001b[0;32m    731\u001b[0m         columns,\n\u001b[1;32m   (...)\u001b[0m\n\u001b[0;32m    734\u001b[0m         typ\u001b[38;5;241m=\u001b[39mmanager,\n\u001b[0;32m    735\u001b[0m     )\n\u001b[0;32m    736\u001b[0m \u001b[38;5;28;01melse\u001b[39;00m:\n",
      "File \u001b[1;32m~\\anaconda3\\lib\\site-packages\\pandas\\core\\internals\\construction.py:519\u001b[0m, in \u001b[0;36mnested_data_to_arrays\u001b[1;34m(data, columns, index, dtype)\u001b[0m\n\u001b[0;32m    516\u001b[0m \u001b[38;5;28;01mif\u001b[39;00m is_named_tuple(data[\u001b[38;5;241m0\u001b[39m]) \u001b[38;5;129;01mand\u001b[39;00m columns \u001b[38;5;129;01mis\u001b[39;00m \u001b[38;5;28;01mNone\u001b[39;00m:\n\u001b[0;32m    517\u001b[0m     columns \u001b[38;5;241m=\u001b[39m ensure_index(data[\u001b[38;5;241m0\u001b[39m]\u001b[38;5;241m.\u001b[39m_fields)\n\u001b[1;32m--> 519\u001b[0m arrays, columns \u001b[38;5;241m=\u001b[39m \u001b[43mto_arrays\u001b[49m\u001b[43m(\u001b[49m\u001b[43mdata\u001b[49m\u001b[43m,\u001b[49m\u001b[43m \u001b[49m\u001b[43mcolumns\u001b[49m\u001b[43m,\u001b[49m\u001b[43m \u001b[49m\u001b[43mdtype\u001b[49m\u001b[38;5;241;43m=\u001b[39;49m\u001b[43mdtype\u001b[49m\u001b[43m)\u001b[49m\n\u001b[0;32m    520\u001b[0m columns \u001b[38;5;241m=\u001b[39m ensure_index(columns)\n\u001b[0;32m    522\u001b[0m \u001b[38;5;28;01mif\u001b[39;00m index \u001b[38;5;129;01mis\u001b[39;00m \u001b[38;5;28;01mNone\u001b[39;00m:\n",
      "File \u001b[1;32m~\\anaconda3\\lib\\site-packages\\pandas\\core\\internals\\construction.py:883\u001b[0m, in \u001b[0;36mto_arrays\u001b[1;34m(data, columns, dtype)\u001b[0m\n\u001b[0;32m    880\u001b[0m     data \u001b[38;5;241m=\u001b[39m [\u001b[38;5;28mtuple\u001b[39m(x) \u001b[38;5;28;01mfor\u001b[39;00m x \u001b[38;5;129;01min\u001b[39;00m data]\n\u001b[0;32m    881\u001b[0m     arr \u001b[38;5;241m=\u001b[39m _list_to_arrays(data)\n\u001b[1;32m--> 883\u001b[0m content, columns \u001b[38;5;241m=\u001b[39m \u001b[43m_finalize_columns_and_data\u001b[49m\u001b[43m(\u001b[49m\u001b[43marr\u001b[49m\u001b[43m,\u001b[49m\u001b[43m \u001b[49m\u001b[43mcolumns\u001b[49m\u001b[43m,\u001b[49m\u001b[43m \u001b[49m\u001b[43mdtype\u001b[49m\u001b[43m)\u001b[49m\n\u001b[0;32m    884\u001b[0m \u001b[38;5;28;01mreturn\u001b[39;00m content, columns\n",
      "File \u001b[1;32m~\\anaconda3\\lib\\site-packages\\pandas\\core\\internals\\construction.py:985\u001b[0m, in \u001b[0;36m_finalize_columns_and_data\u001b[1;34m(content, columns, dtype)\u001b[0m\n\u001b[0;32m    982\u001b[0m     columns \u001b[38;5;241m=\u001b[39m _validate_or_indexify_columns(contents, columns)\n\u001b[0;32m    983\u001b[0m \u001b[38;5;28;01mexcept\u001b[39;00m \u001b[38;5;167;01mAssertionError\u001b[39;00m \u001b[38;5;28;01mas\u001b[39;00m err:\n\u001b[0;32m    984\u001b[0m     \u001b[38;5;66;03m# GH#26429 do not raise user-facing AssertionError\u001b[39;00m\n\u001b[1;32m--> 985\u001b[0m     \u001b[38;5;28;01mraise\u001b[39;00m \u001b[38;5;167;01mValueError\u001b[39;00m(err) \u001b[38;5;28;01mfrom\u001b[39;00m \u001b[38;5;21;01merr\u001b[39;00m\n\u001b[0;32m    987\u001b[0m \u001b[38;5;28;01mif\u001b[39;00m \u001b[38;5;28mlen\u001b[39m(contents) \u001b[38;5;129;01mand\u001b[39;00m contents[\u001b[38;5;241m0\u001b[39m]\u001b[38;5;241m.\u001b[39mdtype \u001b[38;5;241m==\u001b[39m np\u001b[38;5;241m.\u001b[39mobject_:\n\u001b[0;32m    988\u001b[0m     contents \u001b[38;5;241m=\u001b[39m _convert_object_array(contents, dtype\u001b[38;5;241m=\u001b[39mdtype)\n",
      "\u001b[1;31mValueError\u001b[0m: 3 columns passed, passed data had 2 columns"
     ]
    }
   ],
   "source": [
    "info = pd.DataFrame([[1,2],[3,4],[5,6]],columns=['P','Q','R'])\n",
    "print(\"Original Dataframe:\\n\",info)"
   ]
  },
  {
   "cell_type": "code",
   "execution_count": 4,
   "id": "cedad1b4",
   "metadata": {},
   "outputs": [
    {
     "name": "stdout",
     "output_type": "stream",
     "text": [
      "Empty DataFrame\n",
      "Columns: []\n",
      "Index: []\n"
     ]
    }
   ],
   "source": [
    "df = pd.DataFrame()\n",
    "print(df)"
   ]
  },
  {
   "cell_type": "code",
   "execution_count": 5,
   "id": "e9e6132b",
   "metadata": {},
   "outputs": [
    {
     "name": "stdout",
     "output_type": "stream",
     "text": [
      "\n",
      "Series to Data frame\n",
      "\n",
      "        Emp  ID\n",
      "0    Parker  11\n",
      "1      John   7\n",
      "2  Nishanth  65\n"
     ]
    }
   ],
   "source": [
    "emp = pd.Series(['Parker','John','Nishanth'])\n",
    "id = pd.Series([11,7,65])\n",
    "frame = {'Emp':emp,'ID':id}\n",
    "res = pd.DataFrame(frame)\n",
    "print(\"\\nSeries to Data frame\\n\")\n",
    "print(res)"
   ]
  },
  {
   "cell_type": "code",
   "execution_count": 6,
   "id": "5e672802",
   "metadata": {},
   "outputs": [
    {
     "name": "stdout",
     "output_type": "stream",
     "text": [
      "\n",
      "Extracting one column:\n",
      "\n",
      "0      Parker\n",
      "1        John\n",
      "2    Nishanth\n",
      "Name: Emp, dtype: object\n"
     ]
    }
   ],
   "source": [
    "print(\"\\nExtracting one column:\\n\")\n",
    "print(res['Emp'])\n"
   ]
  },
  {
   "cell_type": "code",
   "execution_count": 8,
   "id": "d2fda90b",
   "metadata": {},
   "outputs": [
    {
     "name": "stdout",
     "output_type": "stream",
     "text": [
      "\n",
      "Adding new column:\n",
      "\n",
      "        Emp  ID  Age\n",
      "0    Parker  11   35\n",
      "1      John   7   24\n",
      "2  Nishanth  65   19\n"
     ]
    }
   ],
   "source": [
    "print(\"\\nAdding new column:\\n\")\n",
    "res['Age']=pd.Series([35,24,19])\n",
    "print(res)"
   ]
  },
  {
   "cell_type": "code",
   "execution_count": 9,
   "id": "4d9f2e62",
   "metadata": {},
   "outputs": [
    {
     "ename": "SyntaxError",
     "evalue": "invalid syntax (715628074.py, line 1)",
     "output_type": "error",
     "traceback": [
      "\u001b[1;36m  Input \u001b[1;32mIn [9]\u001b[1;36m\u001b[0m\n\u001b[1;33m    print(del res['Age'])\u001b[0m\n\u001b[1;37m          ^\u001b[0m\n\u001b[1;31mSyntaxError\u001b[0m\u001b[1;31m:\u001b[0m invalid syntax\n"
     ]
    }
   ],
   "source": [
    "print(del res['Age'])"
   ]
  },
  {
   "cell_type": "code",
   "execution_count": 10,
   "id": "ca597518",
   "metadata": {},
   "outputs": [
    {
     "name": "stdout",
     "output_type": "stream",
     "text": [
      "        Emp  ID\n",
      "0    Parker  11\n",
      "1      John   7\n",
      "2  Nishanth  65\n"
     ]
    }
   ],
   "source": [
    "del res['Age']\n",
    "print(res)"
   ]
  },
  {
   "cell_type": "code",
   "execution_count": 11,
   "id": "11fd6fdb",
   "metadata": {},
   "outputs": [
    {
     "name": "stdout",
     "output_type": "stream",
     "text": [
      "Emp    Nishanth\n",
      "ID           65\n",
      "Name: 2, dtype: object\n"
     ]
    }
   ],
   "source": [
    "print(res.loc[2])\n"
   ]
  },
  {
   "cell_type": "code",
   "execution_count": 12,
   "id": "c6049fff",
   "metadata": {},
   "outputs": [
    {
     "name": "stdout",
     "output_type": "stream",
     "text": [
      "      Emp  ID\n",
      "0  Parker  11\n",
      "1    John   7\n"
     ]
    }
   ],
   "source": [
    "print(res[0:2])"
   ]
  },
  {
   "cell_type": "code",
   "execution_count": 17,
   "id": "e5db166e",
   "metadata": {},
   "outputs": [
    {
     "name": "stdout",
     "output_type": "stream",
     "text": [
      "        Emp  ID\n",
      "0    Parker  11\n",
      "1      John   7\n",
      "2  Nishanth  65\n",
      "0    Nirmal  64\n",
      "1       Abu  98\n"
     ]
    },
    {
     "name": "stderr",
     "output_type": "stream",
     "text": [
      "C:\\Users\\Tcs\\AppData\\Local\\Temp\\ipykernel_10500\\2781548884.py:2: FutureWarning: The frame.append method is deprecated and will be removed from pandas in a future version. Use pandas.concat instead.\n",
      "  print(res.append(d2))\n"
     ]
    }
   ],
   "source": [
    "d2 = pd.DataFrame([['Nirmal',64],['Abu',98]],columns=['Emp','ID'])\n",
    "print(res.append(d2))"
   ]
  },
  {
   "cell_type": "code",
   "execution_count": 14,
   "id": "fbc5be82",
   "metadata": {},
   "outputs": [
    {
     "name": "stdout",
     "output_type": "stream",
     "text": [
      "        Emp  ID\n",
      "0    Parker  11\n",
      "2  Nishanth  65\n"
     ]
    }
   ],
   "source": [
    "print(res.drop(1))"
   ]
  },
  {
   "cell_type": "code",
   "execution_count": 18,
   "id": "ead8b70a",
   "metadata": {},
   "outputs": [
    {
     "name": "stdout",
     "output_type": "stream",
     "text": [
      "        Emp  ID\n",
      "0    Parker  11\n",
      "1      John   7\n",
      "2  Nishanth  65\n"
     ]
    }
   ],
   "source": [
    "print(res)"
   ]
  },
  {
   "cell_type": "code",
   "execution_count": 19,
   "id": "f98e70e6",
   "metadata": {},
   "outputs": [
    {
     "name": "stdout",
     "output_type": "stream",
     "text": [
      "DataFrame.apply function:\n",
      "\n",
      "Original Dataframe:\n",
      "    P  Q\n",
      "0  2  7\n",
      "1  2  7\n",
      "2  2  7\n",
      "Sq. root:\n",
      "           P         Q\n",
      "0  1.414214  2.645751\n",
      "1  1.414214  2.645751\n",
      "2  1.414214  2.645751\n",
      "\n",
      "Sum of each column:\n",
      " P     6\n",
      "Q    21\n",
      "dtype: int64\n",
      "\n",
      "Sum of each row:\n",
      " 0    9\n",
      "1    9\n",
      "2    9\n",
      "dtype: int64\n"
     ]
    }
   ],
   "source": [
    "print(\"DataFrame.apply function:\\n\")\n",
    "info = pd.DataFrame([[2,7]]*3,columns=['P','Q'])\n",
    "print(\"Original Dataframe:\\n\",info)\n",
    "print(\"Sq. root:\\n\",info.apply(np.sqrt))\n",
    "print(\"\\nSum of each column:\\n\",info.apply(np.sum,axis=0))\n",
    "print(\"\\nSum of each row:\\n\",info.apply(np.sum,axis=1))"
   ]
  },
  {
   "cell_type": "code",
   "execution_count": 20,
   "id": "959ed44b",
   "metadata": {},
   "outputs": [
    {
     "name": "stdout",
     "output_type": "stream",
     "text": [
      "\n",
      "Original DataFrame:\n",
      "    A  B  C\n",
      "0  1  2  3\n",
      "1  4  5  6\n",
      "2  7  8  9\n",
      "\n",
      "Minimum and Maximum of each column:\n",
      "\n",
      "     A  B  C\n",
      "min  1  2  3\n",
      "max  7  8  9\n"
     ]
    }
   ],
   "source": [
    "info = pd.DataFrame([[1,2,3],[4,5,6],[7,8,9]],columns=['A','B','C'])\n",
    "print(\"\\nOriginal DataFrame:\\n\",info)\n",
    "print(\"\\nMinimum and Maximum of each column:\\n\")\n",
    "print(info.agg(['min','max']))"
   ]
  },
  {
   "cell_type": "code",
   "execution_count": 22,
   "id": "30aef2c8",
   "metadata": {},
   "outputs": [
    {
     "name": "stdout",
     "output_type": "stream",
     "text": [
      "\n",
      "DataFrame.Assign function:\n",
      "\n",
      "        0   1 Sex\n",
      "0  Nirmal  64   M\n",
      "1     Abu  98   M\n"
     ]
    }
   ],
   "source": [
    "print(\"\\nDataFrame.Assign function:\\n\")\n",
    "d2 = pd.DataFrame([['Nirmal',64],['Abu',98]])\n",
    "d=d2.assign(Sex=['M','M'])\n",
    "print(d)"
   ]
  },
  {
   "cell_type": "code",
   "execution_count": 3,
   "id": "dcf32146",
   "metadata": {},
   "outputs": [
    {
     "name": "stdout",
     "output_type": "stream",
     "text": [
      "\n",
      "DataFrame.Sort function:\n",
      "\n",
      "       col3      col4\n",
      "3  0.139280  0.802822\n",
      "2  0.201870 -1.380021\n",
      "0 -1.665865 -2.095183\n",
      "4 -1.281638  1.088080\n",
      "1 -2.716871 -0.328608\n",
      "\n",
      "Sort index:\n",
      "        col3      col4\n",
      "0 -1.665865 -2.095183\n",
      "1 -2.716871 -0.328608\n",
      "2  0.201870 -1.380021\n",
      "3  0.139280  0.802822\n",
      "4 -1.281638  1.088080\n",
      "\n",
      "Sort Values:\n",
      "        col3      col4\n",
      "1 -2.716871 -0.328608\n",
      "0 -1.665865 -2.095183\n",
      "4 -1.281638  1.088080\n",
      "3  0.139280  0.802822\n",
      "2  0.201870 -1.380021\n"
     ]
    }
   ],
   "source": [
    "import pandas as pd\n",
    "import numpy as np\n",
    "print(\"\\nDataFrame.Sort function:\\n\")\n",
    "info = pd.DataFrame(np.random.randn(5,2),index=[3,2,0,4,1],columns=['col3','col4'])\n",
    "print(info)\n",
    "info2 = info.sort_index()\n",
    "print(\"\\nSort index:\\n\",info2)\n",
    "info3 = info.sort_values(by='col3')\n",
    "print(\"\\nSort Values:\\n\",info3)"
   ]
  },
  {
   "cell_type": "code",
   "execution_count": 4,
   "id": "a87b0379",
   "metadata": {},
   "outputs": [
    {
     "name": "stdout",
     "output_type": "stream",
     "text": [
      "\n",
      "DataFrame.Merge function:\n",
      "\n",
      "   id     Name   sub\n",
      "0   1  Sooriya  sub1\n",
      "1   2    Rahul  sub2\n",
      "2   3      Abu  sub4\n",
      "3   4   Nirmal  sub6\n",
      "4   5    Selva  sub5\n",
      "   id   Name   sub\n",
      "0   1  Billy  sub2\n",
      "1   2  Brian  sub4\n",
      "2   3   Bran  sub3\n",
      "3   4  Bryce  sub6\n",
      "4   5  Betty  sub5\n",
      "   id   Name_x sub_x Name_y sub_y\n",
      "0   1  Sooriya  sub1  Billy  sub2\n",
      "1   2    Rahul  sub2  Brian  sub4\n",
      "2   3      Abu  sub4   Bran  sub3\n",
      "3   4   Nirmal  sub6  Bryce  sub6\n",
      "4   5    Selva  sub5  Betty  sub5\n"
     ]
    }
   ],
   "source": [
    "print(\"\\nDataFrame.Merge function:\\n\")\n",
    "left = pd.DataFrame({\n",
    "    'id':[1,2,3,4,5],\n",
    "    'Name':['Sooriya','Rahul','Abu','Nirmal','Selva'],\n",
    "    'sub':['sub1','sub2','sub4','sub6','sub5']\n",
    "})\n",
    "right = pd.DataFrame({\n",
    "    'id':[1,2,3,4,5],\n",
    "    'Name':['Billy','Brian','Bran','Bryce','Betty'],\n",
    "    'sub':['sub2','sub4','sub3','sub6','sub5']\n",
    "})\n",
    "print(left)\n",
    "print(right)\n",
    "print(pd.merge(left,right,on='id'))"
   ]
  },
  {
   "cell_type": "code",
   "execution_count": 5,
   "id": "c33d0c57",
   "metadata": {},
   "outputs": [
    {
     "name": "stdout",
     "output_type": "stream",
     "text": [
      "\n",
      "DataFrame.Merge function:\n",
      "\n",
      "   id     Name   sub\n",
      "0   1  Sooriya  sub1\n",
      "1   2    Rahul  sub2\n",
      "2   3      Abu  sub4\n",
      "3   4   Nirmal  sub6\n",
      "4   5    Selva  sub5\n",
      "   id   Name   sub\n",
      "0   5  Billy  sub2\n",
      "1   4  Brian  sub4\n",
      "2   3   Bran  sub3\n",
      "3   2  Bryce  sub6\n",
      "4   1  Betty  sub5\n",
      "   id   Name_x sub_x Name_y sub_y\n",
      "0   1  Sooriya  sub1  Betty  sub5\n",
      "1   2    Rahul  sub2  Bryce  sub6\n",
      "2   3      Abu  sub4   Bran  sub3\n",
      "3   4   Nirmal  sub6  Brian  sub4\n",
      "4   5    Selva  sub5  Billy  sub2\n"
     ]
    }
   ],
   "source": [
    "print(\"\\nDataFrame.Merge function:\\n\")\n",
    "left = pd.DataFrame({\n",
    "    'id':[1,2,3,4,5],\n",
    "    'Name':['Sooriya','Rahul','Abu','Nirmal','Selva'],\n",
    "    'sub':['sub1','sub2','sub4','sub6','sub5']\n",
    "})\n",
    "right = pd.DataFrame({\n",
    "    'id':[5,4,3,2,1],\n",
    "    'Name':['Billy','Brian','Bran','Bryce','Betty'],\n",
    "    'sub':['sub2','sub4','sub3','sub6','sub5']\n",
    "})\n",
    "print(left)\n",
    "print(right)\n",
    "print(pd.merge(left,right,on='id'))"
   ]
  },
  {
   "cell_type": "code",
   "execution_count": 6,
   "id": "eea959fa",
   "metadata": {},
   "outputs": [
    {
     "name": "stdout",
     "output_type": "stream",
     "text": [
      "0    P\n",
      "1    a\n",
      "2    n\n",
      "3    d\n",
      "4    a\n",
      "5    s\n",
      "dtype: object\n"
     ]
    }
   ],
   "source": [
    "arr = np.array(['P','a','n','d','a','s'])\n",
    "a = pd.Series(arr)\n",
    "print(a)"
   ]
  },
  {
   "cell_type": "code",
   "execution_count": 7,
   "id": "eb2e69e9",
   "metadata": {},
   "outputs": [
    {
     "name": "stdout",
     "output_type": "stream",
     "text": [
      "x    0\n",
      "y    1\n",
      "z    2\n",
      "dtype: int64\n"
     ]
    }
   ],
   "source": [
    "arr = {'x':0,'y':1,'z':2}\n",
    "b = pd.Series(arr)\n",
    "print(b)\n"
   ]
  },
  {
   "cell_type": "code",
   "execution_count": 8,
   "id": "37b5ea78",
   "metadata": {},
   "outputs": [
    {
     "name": "stdout",
     "output_type": "stream",
     "text": [
      "0    4\n",
      "1    4\n",
      "2    4\n",
      "3    4\n",
      "dtype: int64\n"
     ]
    }
   ],
   "source": [
    "x= pd.Series(4,index=[0,1,2,3])\n",
    "print(x)"
   ]
  },
  {
   "cell_type": "code",
   "execution_count": 9,
   "id": "dc33a166",
   "metadata": {},
   "outputs": [
    {
     "name": "stdout",
     "output_type": "stream",
     "text": [
      "a    1\n",
      "b    2\n",
      "c    3\n",
      "dtype: int64\n"
     ]
    }
   ],
   "source": [
    "x= pd.Series([1,2,3],index=['a','b','c'])\n",
    "print(x)"
   ]
  },
  {
   "cell_type": "code",
   "execution_count": 10,
   "id": "81570c24",
   "metadata": {},
   "outputs": [
    {
     "name": "stdout",
     "output_type": "stream",
     "text": [
      "0    1\n",
      "1    2\n",
      "2    3\n",
      "3    4\n",
      "dtype: int64\n",
      "RangeIndex(start=0, stop=4, step=1)\n",
      "[1 2 3 4]\n",
      "(4,)\n",
      "1\n",
      "4\n"
     ]
    }
   ],
   "source": [
    "a = pd.Series(data=[1,2,3,4])\n",
    "print(a)\n",
    "print(a.index)\n",
    "print(a.values)\n",
    "print(a.shape)\n",
    "print(a.ndim)\n",
    "print(a.size)"
   ]
  },
  {
   "cell_type": "code",
   "execution_count": null,
   "id": "298a0bbf",
   "metadata": {},
   "outputs": [],
   "source": []
  }
 ],
 "metadata": {
  "kernelspec": {
   "display_name": "Python 3 (ipykernel)",
   "language": "python",
   "name": "python3"
  },
  "language_info": {
   "codemirror_mode": {
    "name": "ipython",
    "version": 3
   },
   "file_extension": ".py",
   "mimetype": "text/x-python",
   "name": "python",
   "nbconvert_exporter": "python",
   "pygments_lexer": "ipython3",
   "version": "3.9.12"
  }
 },
 "nbformat": 4,
 "nbformat_minor": 5
}
