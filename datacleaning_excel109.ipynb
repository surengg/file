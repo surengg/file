{
 "cells": [
  {
   "cell_type": "code",
   "execution_count": 11,
   "id": "405d2f75",
   "metadata": {},
   "outputs": [
    {
     "name": "stdout",
     "output_type": "stream",
     "text": [
      "Original data:\n",
      "\n",
      "   ROLL     NAME  ENGLISH  TAMIL  MATHS  SCIENCE  SOCIAL  TOTAL\n",
      "0   101    DEEPA     50.0     67     50     67.0      50    284\n",
      "1   102   DINESH     56.0     89     56     89.0      56    346\n",
      "2   103   KAVIYA     80.0     80     80     80.0      80    400\n",
      "3   104  RACHEAL     89.0     87     89     87.0      89    441\n",
      "4   105    RAJAN      NaN     98     90     98.0      90    466\n",
      "5   106    RAMYA     67.0     76     67     76.0      67    353\n",
      "6   107    ROHAN     56.0     67     56     67.0      56    302\n",
      "7   108   ROHINI     57.0     65     57     65.0      57    301\n",
      "8   109  SANDHYA     58.0     56     58     56.0      58    286\n",
      "9   110  SARANYA     49.0     45     49      NaN      49    237\n"
     ]
    }
   ],
   "source": [
    "import pandas as pd\n",
    "pd.set_option('display.max_columns',10)\n",
    "print(\"Original data:\\n\")\n",
    "df=pd.read_excel(\"D:\\dcap.xlsx\")\n",
    "print(df)"
   ]
  },
  {
   "cell_type": "code",
   "execution_count": 15,
   "id": "e13258be",
   "metadata": {},
   "outputs": [],
   "source": [
    "f=df['NAME'].str.strip()\n",
    "f.to_excel(\"D:\\dcap.xlsx\")"
   ]
  },
  {
   "cell_type": "code",
   "execution_count": 16,
   "id": "9087354c",
   "metadata": {},
   "outputs": [
    {
     "name": "stdout",
     "output_type": "stream",
     "text": [
      "\n",
      "Replace value:\n",
      "   ROLL     NAME  ENGLISH  TAMIL  MATHS  SCIENCE  SOCIAL  TOTAL\n",
      "0   101    DEEPA     50.0     67     50     67.0      50    284\n",
      "1   102   DINESH     56.0     89     56     89.0      56    346\n",
      "2   103   KAVIYA     80.0     80     80     80.0      80    400\n",
      "3   104  RACHEAL     89.0     87     89     87.0      89    441\n",
      "4   105    RAJAN     89.0     98     90     98.0      90    466\n",
      "5   106    RAMYA     67.0     76     67     76.0      67    353\n",
      "6   107    ROHAN     56.0     67     56     67.0      56    302\n",
      "7   108   ROHINI     57.0     65     57     65.0      57    301\n",
      "8   109  SANDHYA     58.0     56     58     56.0      58    286\n",
      "9   110  SARANYA     49.0     45     49     56.0      49    237\n",
      "\n",
      "Updated list\n",
      "\n"
     ]
    }
   ],
   "source": [
    "print(\"\\nReplace value:\")\n",
    "k=df.fillna(method='pad')\n",
    "print(k)\n",
    "print(\"\\nUpdated list\\n\")\n",
    "k.to_excel(\"D:\\dcap.xlsx\")"
   ]
  },
  {
   "cell_type": "code",
   "execution_count": 17,
   "id": "2c6a48ce",
   "metadata": {},
   "outputs": [
    {
     "name": "stdout",
     "output_type": "stream",
     "text": [
      "\n",
      "Drop one particular column and its values:\n",
      "\n",
      "   ROLL     NAME  ENGLISH  TAMIL  MATHS  SCIENCE  TOTAL\n",
      "0   101    DEEPA     50.0     67     50     67.0    284\n",
      "1   102   DINESH     56.0     89     56     89.0    346\n",
      "2   103   KAVIYA     80.0     80     80     80.0    400\n",
      "3   104  RACHEAL     89.0     87     89     87.0    441\n",
      "4   105    RAJAN     89.0     98     90     98.0    466\n",
      "5   106    RAMYA     67.0     76     67     76.0    353\n",
      "6   107    ROHAN     56.0     67     56     67.0    302\n",
      "7   108   ROHINI     57.0     65     57     65.0    301\n",
      "8   109  SANDHYA     58.0     56     58     56.0    286\n",
      "9   110  SARANYA     49.0     45     49     56.0    237\n",
      "\n",
      "Updated list..\n",
      "\n"
     ]
    }
   ],
   "source": [
    "print(\"\\nDrop one particular column and its values:\\n\")\n",
    "k.drop(['SOCIAL'],axis=1,inplace=True)\n",
    "print(k)\n",
    "print(\"\\nUpdated list..\\n\")\n",
    "k.to_excel(\"D:\\dcap.xlsx\")"
   ]
  },
  {
   "cell_type": "code",
   "execution_count": 19,
   "id": "f534eabb",
   "metadata": {},
   "outputs": [
    {
     "name": "stdout",
     "output_type": "stream",
     "text": [
      "\n",
      "Drop NaN rows:\n",
      "\n",
      "   Unnamed: 0  ROLL     NAME  ENGLISH  TAMIL  MATHS  SCIENCE  TOTAL\n",
      "0           0   101    DEEPA       50     67     50       67    284\n",
      "1           1   102   DINESH       56     89     56       89    346\n",
      "2           2   103   KAVIYA       80     80     80       80    400\n",
      "3           3   104  RACHEAL       89     87     89       87    441\n",
      "4           4   105    RAJAN       89     98     90       98    466\n",
      "5           5   106    RAMYA       67     76     67       76    353\n",
      "6           6   107    ROHAN       56     67     56       67    302\n",
      "7           7   108   ROHINI       57     65     57       65    301\n",
      "8           8   109  SANDHYA       58     56     58       56    286\n",
      "9           9   110  SARANYA       49     45     49       56    237\n",
      "   Unnamed: 0  ROLL     NAME  ENGLISH  TAMIL  MATHS  SCIENCE  TOTAL\n",
      "0           0   101    DEEPA       50     67     50       67    284\n",
      "1           1   102   DINESH       56     89     56       89    346\n",
      "2           2   103   KAVIYA       80     80     80       80    400\n",
      "3           3   104  RACHEAL       89     87     89       87    441\n",
      "4           4   105    RAJAN       89     98     90       98    466\n",
      "5           5   106    RAMYA       67     76     67       76    353\n",
      "6           6   107    ROHAN       56     67     56       67    302\n",
      "7           7   108   ROHINI       57     65     57       65    301\n",
      "8           8   109  SANDHYA       58     56     58       56    286\n",
      "9           9   110  SARANYA       49     45     49       56    237\n",
      "\n",
      "Updated data list:\n",
      "\n"
     ]
    }
   ],
   "source": [
    "print(\"\\nDrop NaN rows:\\n\")\n",
    "df=pd.read_excel(\"D:\\dcap.xlsx\")\n",
    "print(df)\n",
    "x=df.dropna()\n",
    "print(x)\n",
    "print(\"\\nUpdated data list:\\n\")\n",
    "x.to_excel(\"D:\\dcap.xlsx\")"
   ]
  },
  {
   "cell_type": "code",
   "execution_count": 20,
   "id": "3e1940e4",
   "metadata": {},
   "outputs": [
    {
     "name": "stdout",
     "output_type": "stream",
     "text": [
      "\n",
      "Replace values:\n",
      "\n",
      "\n",
      "Original data:\n",
      "\n",
      "   Unnamed: 0.1  Unnamed: 0  ROLL     NAME  ENGLISH  TAMIL  MATHS  SCIENCE  \\\n",
      "0             0           0   101    DEEPA       50     67     50       67   \n",
      "1             1           1   102   DINESH       56     89     56       89   \n",
      "2             2           2   103   KAVIYA       80     80     80       80   \n",
      "3             3           3   104  RACHEAL       89     87     89       87   \n",
      "4             4           4   105    RAJAN       89     98     90       98   \n",
      "5             5           5   106    RAMYA       67     76     67       76   \n",
      "6             6           6   107    ROHAN       56     67     56       67   \n",
      "7             7           7   108   ROHINI       57     65     57       65   \n",
      "8             8           8   109  SANDHYA       58     56     58       56   \n",
      "9             9           9   110  SARANYA       49     45     49       56   \n",
      "\n",
      "   TOTAL  \n",
      "0    284  \n",
      "1    346  \n",
      "2    400  \n",
      "3    441  \n",
      "4    466  \n",
      "5    353  \n",
      "6    302  \n",
      "7    301  \n",
      "8    286  \n",
      "9    237  \n",
      "\n",
      "Replaced dataset:\n",
      "\n",
      "   Unnamed: 0.1  Unnamed: 0  ROLL     NAME  ENGLISH  TAMIL  MATHS  SCIENCE  \\\n",
      "0             0           0   101    DEEPA       50     67     50       67   \n",
      "1             1           1   102   DINESH       56     88     56       88   \n",
      "2             2           2   103   KAVIYA       80     80     80       80   \n",
      "3             3           3   104  RACHEAL       88     87     88       87   \n",
      "4             4           4   105    RAJAN       88     98     90       98   \n",
      "5             5           5   106    RAMYA       67     76     67       76   \n",
      "6             6           6   107    ROHAN       56     67     56       67   \n",
      "7             7           7   108   ROHINI       57     65     57       65   \n",
      "8             8           8   109  SANDHYA       58     56     58       56   \n",
      "9             9           9   110  SARANYA       49     45     49       56   \n",
      "\n",
      "   TOTAL  \n",
      "0    284  \n",
      "1    346  \n",
      "2    400  \n",
      "3    441  \n",
      "4    466  \n",
      "5    353  \n",
      "6    302  \n",
      "7    301  \n",
      "8    286  \n",
      "9    237  \n",
      "\n",
      "Updated dataset:\n",
      "\n"
     ]
    }
   ],
   "source": [
    "print(\"\\nReplace values:\\n\")\n",
    "n=pd.read_excel(\"D:\\dcap.xlsx\")\n",
    "print(\"\\nOriginal data:\\n\")\n",
    "print(n)\n",
    "y=n.replace({89:88})\n",
    "print(\"\\nReplaced dataset:\\n\")\n",
    "print(y)\n",
    "print(\"\\nUpdated dataset:\\n\")\n",
    "y.to_excel(\"D:\\dcap.xlsx\")"
   ]
  },
  {
   "cell_type": "code",
   "execution_count": 21,
   "id": "8ce7ddf1",
   "metadata": {},
   "outputs": [
    {
     "name": "stdout",
     "output_type": "stream",
     "text": [
      "   Unnamed: 0.2  Unnamed: 0.1  Unnamed: 0  ROLL     NAME  ENGLISH  TAMIL  \\\n",
      "0             0             0           0   101    DEEPA       50     67   \n",
      "1             1             1           1   102   DINESH       56     88   \n",
      "2             2             2           2   103   KAVIYA       80     80   \n",
      "3             3             3           3   104  RACHEAL       88     87   \n",
      "4             4             4           4   105    RAJAN       88     98   \n",
      "5             5             5           5   106    RAMYA       67     76   \n",
      "6             6             6           6   107    ROHAN       56     67   \n",
      "7             7             7           7   108   ROHINI       57     65   \n",
      "8             8             8           8   109  SANDHYA       58     56   \n",
      "9             9             9           9   110  SARANYA       49     45   \n",
      "\n",
      "   MATHS  SCIENCE  TOTAL  \n",
      "0     50       67    284  \n",
      "1     56       88    346  \n",
      "2     80       80    400  \n",
      "3     88       87    441  \n",
      "4     90       98    466  \n",
      "5     67       76    353  \n",
      "6     56       67    302  \n",
      "7     57       65    301  \n",
      "8     58       56    286  \n",
      "9     49       56    237  \n",
      "\n",
      "Extract using isin() function:\n",
      "\n",
      "   Unnamed: 0.2  Unnamed: 0.1  Unnamed: 0  ROLL     NAME  ENGLISH  TAMIL  \\\n",
      "3             3             3           3   104  RACHEAL       88     87   \n",
      "4             4             4           4   105    RAJAN       88     98   \n",
      "\n",
      "   MATHS  SCIENCE  TOTAL  \n",
      "3     88       87    441  \n",
      "4     90       98    466  \n"
     ]
    }
   ],
   "source": [
    "df=pd.read_excel(\"D:\\dcap.xlsx\")\n",
    "print(df)\n",
    "print(\"\\nExtract using isin() function:\\n\")\n",
    "new=df['ENGLISH'].isin([88])\n",
    "print(df[new])"
   ]
  },
  {
   "cell_type": "code",
   "execution_count": null,
   "id": "fdb647e8",
   "metadata": {},
   "outputs": [],
   "source": []
  }
 ],
 "metadata": {
  "kernelspec": {
   "display_name": "Python 3 (ipykernel)",
   "language": "python",
   "name": "python3"
  },
  "language_info": {
   "codemirror_mode": {
    "name": "ipython",
    "version": 3
   },
   "file_extension": ".py",
   "mimetype": "text/x-python",
   "name": "python",
   "nbconvert_exporter": "python",
   "pygments_lexer": "ipython3",
   "version": "3.9.12"
  }
 },
 "nbformat": 4,
 "nbformat_minor": 5
}
