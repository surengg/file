{
  "metadata": {
    "kernelspec": {
      "name": "python",
      "display_name": "Python (Pyodide)",
      "language": "python"
    },
    "language_info": {
      "codemirror_mode": {
        "name": "python",
        "version": 3
      },
      "file_extension": ".py",
      "mimetype": "text/x-python",
      "name": "python",
      "nbconvert_exporter": "python",
      "pygments_lexer": "ipython3",
      "version": "3.8"
    }
  },
  "nbformat_minor": 4,
  "nbformat": 4,
  "cells": [
    {
      "cell_type": "code",
      "source": "import pandas as pd\nimport numpy as np\nfrom datetime import datetime\ndates = [datetime(2020,1,5),\n         datetime(2020,1,10),\n         datetime(2020,1,15),\n         datetime(2020,1,20),\n         datetime(2020,1,25)]\nts = pd.Series(np.random.randn(5), index=dates)\nprint(\"\\nWith this date object, create a series with datetime index:\\n\",ts)\n",
      "metadata": {
        "trusted": true
      },
      "outputs": [
        {
          "name": "stderr",
          "text": "<ipython-input-1-d39a36850452>:1: DeprecationWarning: \nPyarrow will become a required dependency of pandas in the next major release of pandas (pandas 3.0),\n(to allow more performant data types, such as the Arrow string type, and better interoperability with other libraries)\nbut was not found to be installed on your system.\nIf this would cause problems for you,\nplease provide us feedback at https://github.com/pandas-dev/pandas/issues/54466\n        \n  import pandas as pd\n",
          "output_type": "stream"
        },
        {
          "name": "stdout",
          "text": "\nWith this date object, create a series with datetime index:\n 2020-01-05   -0.311738\n2020-01-10    0.041841\n2020-01-15    0.696999\n2020-01-20   -0.945812\n2020-01-25   -0.063106\ndtype: float64\n",
          "output_type": "stream"
        }
      ],
      "execution_count": 1
    },
    {
      "cell_type": "code",
      "source": "res=ts.truncate(after=\"1/15/2020\")\nprint(\"\\nTruncate method to truncate datetime series \\n\", res)\n\n",
      "metadata": {
        "trusted": true
      },
      "outputs": [
        {
          "name": "stdout",
          "text": "\nTruncate method to truncate datetime series \n 2020-01-05   -0.311738\n2020-01-10    0.041841\n2020-01-15    0.696999\ndtype: float64\n",
          "output_type": "stream"
        }
      ],
      "execution_count": 2
    },
    {
      "cell_type": "code",
      "source": "da=pd.date_range(\"10/1/2022\", periods=10, freq=\"W-SUN\")\nprint(\"\\nDate range with day periods.\\n\",da)\n",
      "metadata": {
        "trusted": true
      },
      "outputs": [
        {
          "name": "stdout",
          "text": "\nDate range with day periods.\n DatetimeIndex(['2022-10-02', '2022-10-09', '2022-10-16', '2022-10-23',\n               '2022-10-30', '2022-11-06', '2022-11-13', '2022-11-20',\n               '2022-11-27', '2022-12-04'],\n              dtype='datetime64[ns]', freq='W-SUN')\n",
          "output_type": "stream"
        }
      ],
      "execution_count": 7
    },
    {
      "cell_type": "code",
      "source": "date=pd.DatetimeIndex([\"1/1/2020\",\"1/2/2020\",\"1/2/2020\",\"1/2/2020\",\"1/3/2020\"])\nts1=pd.Series(np.arange(5), index=date)\nprint(\"\\nDuplicate datetime index:\\n\",ts1)\n",
      "metadata": {
        "trusted": true
      },
      "outputs": [
        {
          "name": "stdout",
          "text": "\nDuplicate datetime index:\n 2020-01-01    0\n2020-01-02    1\n2020-01-02    2\n2020-01-02    3\n2020-01-03    4\ndtype: int32\n",
          "output_type": "stream"
        }
      ],
      "execution_count": 8
    },
    {
      "cell_type": "code",
      "source": "group=ts1.groupby(level=0)\nprint(\"\\nRepeated date counts:\\n\",group.count())",
      "metadata": {
        "trusted": true
      },
      "outputs": [
        {
          "name": "stdout",
          "text": "\nRepeated date counts:\n 2020-01-01    1\n2020-01-02    3\n2020-01-03    1\ndtype: int64\n",
          "output_type": "stream"
        }
      ],
      "execution_count": 9
    },
    {
      "cell_type": "code",
      "source": "long_df=pd.DataFrame(np.random.randn(10,4),index=da,columns=list(\"ABCD\"))\nprint(\"\\nMulti-column DataFrame with datatime index:\\n\",long_df)",
      "metadata": {
        "trusted": true
      },
      "outputs": [
        {
          "name": "stdout",
          "text": "\nMulti-column DataFrame with datatime index:\n                    A         B         C         D\n2022-10-02  0.889148  1.989137 -0.367308 -0.311436\n2022-10-09  0.386147 -0.761714  0.414143  1.144803\n2022-10-16  1.334439  0.975615  1.918094  0.443726\n2022-10-23 -0.801589 -1.616244 -0.732639  1.235061\n2022-10-30  1.192299 -1.504296 -0.240601 -0.128026\n2022-11-06  2.263079 -0.796072 -0.693074 -0.898791\n2022-11-13  0.727153  0.361485  0.439339  0.508558\n2022-11-20  0.752807  0.268810 -0.501983  0.622096\n2022-11-27 -0.578030  0.018511  0.501277 -0.511742\n2022-12-04 -0.657235  1.239548  1.465956 -0.474528\n",
          "output_type": "stream"
        }
      ],
      "execution_count": 11
    },
    {
      "cell_type": "code",
      "source": "",
      "metadata": {
        "trusted": true
      },
      "outputs": [],
      "execution_count": null
    }
  ]
}