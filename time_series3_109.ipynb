{
  "metadata": {
    "kernelspec": {
      "name": "python",
      "display_name": "Python (Pyodide)",
      "language": "python"
    },
    "language_info": {
      "codemirror_mode": {
        "name": "python",
        "version": 3
      },
      "file_extension": ".py",
      "mimetype": "text/x-python",
      "name": "python",
      "nbconvert_exporter": "python",
      "pygments_lexer": "ipython3",
      "version": "3.8"
    }
  },
  "nbformat_minor": 4,
  "nbformat": 4,
  "cells": [
    {
      "cell_type": "code",
      "source": "import pandas as pd\nimport numpy as np\nfrom datetime import datetime\ndates = [datetime(2011, 1, 2),\n         datetime(2011, 1, 5),\n         datetime(2011, 1, 7),\n         datetime(2011, 1, 8),\n         datetime(2011, 1, 10),\n         datetime(2011, 1, 12)]\nts = pd.Series(np.random.randn(6), index=dates)\nprint(\"Date Index \\n\",ts)\n\n",
      "metadata": {
        "trusted": true
      },
      "outputs": [
        {
          "name": "stdout",
          "text": "Date Index \n 2011-01-02    0.958896\n2011-01-05    1.518237\n2011-01-07    0.498470\n2011-01-08    1.004065\n2011-01-10    0.273683\n2011-01-12    0.686696\ndtype: float64\n",
          "output_type": "stream"
        }
      ],
      "execution_count": 2
    },
    {
      "cell_type": "code",
      "source": "print(\"\\nDate Index alone from the series: \\n\",ts.index)",
      "metadata": {
        "trusted": true
      },
      "outputs": [
        {
          "name": "stdout",
          "text": "\nDate Index alone from the series: \n DatetimeIndex(['2011-01-02', '2011-01-05', '2011-01-07', '2011-01-08',\n               '2011-01-10', '2011-01-12'],\n              dtype='datetime64[ns]', freq=None)\n",
          "output_type": "stream"
        }
      ],
      "execution_count": 3
    },
    {
      "cell_type": "code",
      "source": "stamp=ts.index[2]\nprint(\"\\nSecond index:\\n\", stamp)\n",
      "metadata": {
        "trusted": true
      },
      "outputs": [
        {
          "name": "stdout",
          "text": "\nSecond index:\n 2011-01-07 00:00:00\n",
          "output_type": "stream"
        }
      ],
      "execution_count": 4
    },
    {
      "cell_type": "code",
      "source": "longer_ts=pd.Series(np.random.randn(1000),\n                    index=pd.date_range(\"2000-01-01\",periods=1000))\nprint(\"\\nDaterange up to 1000 days:\\n\",longer_ts)\n",
      "metadata": {
        "trusted": true
      },
      "outputs": [
        {
          "name": "stdout",
          "text": "\nDaterange up to 1000 days:\n 2000-01-01    0.909254\n2000-01-02   -0.308572\n2000-01-03   -0.878563\n2000-01-04    1.378312\n2000-01-05    0.149348\n                ...   \n2002-09-22    0.747702\n2002-09-23   -0.578071\n2002-09-24    0.880173\n2002-09-25    1.454115\n2002-09-26   -0.748836\nFreq: D, Length: 1000, dtype: float64\n",
          "output_type": "stream"
        }
      ],
      "execution_count": 8
    },
    {
      "cell_type": "code",
      "source": "print(\"\\nDate range-2001 year:\\n\", longer_ts[\"2001\"])",
      "metadata": {
        "trusted": true
      },
      "outputs": [
        {
          "name": "stdout",
          "text": "\nDate range-2001 year:\n 2001-01-01    0.288750\n2001-01-02    1.302220\n2001-01-03    1.239722\n2001-01-04    1.662038\n2001-01-05   -0.675774\n                ...   \n2001-12-27    0.359164\n2001-12-28    0.415595\n2001-12-29   -2.042460\n2001-12-30   -0.305046\n2001-12-31    0.561015\nFreq: D, Length: 365, dtype: float64\n",
          "output_type": "stream"
        }
      ],
      "execution_count": 10
    },
    {
      "cell_type": "code",
      "source": "print(\"\\nDate range-05 month 2001 year:\\n\", longer_ts[\"2001-05\"])",
      "metadata": {
        "trusted": true
      },
      "outputs": [
        {
          "name": "stdout",
          "text": "\nDate range-05 month 2001 year:\n 2001-05-01    1.149221\n2001-05-02   -0.274249\n2001-05-03   -0.885615\n2001-05-04    1.006639\n2001-05-05    1.032286\n2001-05-06   -0.375445\n2001-05-07   -0.015351\n2001-05-08    2.632341\n2001-05-09    0.942988\n2001-05-10    0.148454\n2001-05-11    0.096339\n2001-05-12    0.314469\n2001-05-13   -1.367820\n2001-05-14    1.764410\n2001-05-15   -0.432735\n2001-05-16   -1.616693\n2001-05-17    0.520035\n2001-05-18    1.177665\n2001-05-19    1.140262\n2001-05-20   -0.583505\n2001-05-21   -1.047121\n2001-05-22   -1.114520\n2001-05-23   -0.444466\n2001-05-24   -1.591377\n2001-05-25   -0.883574\n2001-05-26    2.232991\n2001-05-27   -0.212809\n2001-05-28   -0.460765\n2001-05-29    1.682508\n2001-05-30   -0.188502\n2001-05-31    1.420510\nFreq: D, dtype: float64\n",
          "output_type": "stream"
        }
      ],
      "execution_count": 11
    },
    {
      "cell_type": "code",
      "source": "print(\"\\nDate range-first few dates in 2000 year:\\n\",longer_ts[\"2000\"].head())",
      "metadata": {
        "trusted": true
      },
      "outputs": [
        {
          "name": "stdout",
          "text": "\nDate range-first few dates in 2000 year:\n 2000-01-01    0.909254\n2000-01-02   -0.308572\n2000-01-03   -0.878563\n2000-01-04    1.378312\n2000-01-05    0.149348\nFreq: D, dtype: float64\n",
          "output_type": "stream"
        }
      ],
      "execution_count": 13
    },
    {
      "cell_type": "code",
      "source": "print(\"\\nDate range-first 15 dates in 02 month 2001 year:\\n\",longer_ts[\"2000-02\"].head(15))",
      "metadata": {
        "trusted": true
      },
      "outputs": [
        {
          "name": "stdout",
          "text": "\nDate range-first 15 dates in 02 month 2001 year:\n 2000-02-01   -0.600622\n2000-02-02    1.301964\n2000-02-03   -0.069307\n2000-02-04    1.171015\n2000-02-05    0.359115\n2000-02-06    1.400178\n2000-02-07    0.603573\n2000-02-08    0.659956\n2000-02-09   -0.943143\n2000-02-10    1.696241\n2000-02-11    0.086739\n2000-02-12   -1.201918\n2000-02-13   -0.144311\n2000-02-14    3.374726\n2000-02-15    0.625090\nFreq: D, dtype: float64\n",
          "output_type": "stream"
        }
      ],
      "execution_count": 14
    },
    {
      "cell_type": "code",
      "source": "print(\"\\nDate range-rom 26-9-2001:\\n\",longer_ts[datetime(2000,9,26):])",
      "metadata": {
        "trusted": true
      },
      "outputs": [
        {
          "name": "stdout",
          "text": "\nDate range-rom 26-9-2001:\n 2000-09-26   -0.074558\n2000-09-27   -0.473156\n2000-09-28    1.000542\n2000-09-29    0.224639\n2000-09-30   -0.724497\n                ...   \n2002-09-22    0.747702\n2002-09-23   -0.578071\n2002-09-24    0.880173\n2002-09-25    1.454115\n2002-09-26   -0.748836\nFreq: D, Length: 731, dtype: float64\n",
          "output_type": "stream"
        }
      ],
      "execution_count": 18
    },
    {
      "cell_type": "code",
      "source": "print(\"\\nDate range from 26-9-2001 to 25-9- 2002:\\n\",longer_ts[datetime(2001,9,26):datetime(2002,9,25)])",
      "metadata": {
        "trusted": true
      },
      "outputs": [
        {
          "name": "stdout",
          "text": "\nDate range from 26-9-2001 to 25-9- 2002:\n 2001-09-26    0.334055\n2001-09-27    0.354986\n2001-09-28    0.098503\n2001-09-29    0.806799\n2001-09-30   -0.236213\n                ...   \n2002-09-21   -0.316842\n2002-09-22    0.747702\n2002-09-23   -0.578071\n2002-09-24    0.880173\n2002-09-25    1.454115\nFreq: D, Length: 365, dtype: float64\n",
          "output_type": "stream"
        }
      ],
      "execution_count": 20
    },
    {
      "cell_type": "code",
      "source": "",
      "metadata": {
        "trusted": true
      },
      "outputs": [],
      "execution_count": null
    }
  ]
}