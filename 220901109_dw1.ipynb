{
 "cells": [
  {
   "cell_type": "code",
   "execution_count": 2,
   "id": "beaafd7e",
   "metadata": {},
   "outputs": [
    {
     "name": "stdout",
     "output_type": "stream",
     "text": [
      "Original DataFrame 1        name  age\n",
      "0       Abu   50\n",
      "1     Selva   40\n",
      "2  Nishanth   30\n",
      "Original Dataframe 2    quaified\n",
      "0      True\n",
      "1     False\n",
      "2     False\n",
      "Joining Dataframes        name  age  quaified\n",
      "0       Abu   50      True\n",
      "1     Selva   40     False\n",
      "2  Nishanth   30     False\n"
     ]
    }
   ],
   "source": [
    "import pandas as pd\n",
    "data1 = {\n",
    "    \"name\":[\"Abu\",\"Selva\",\"Nishanth\"],\n",
    "    \"age\" :[50,40,30]\n",
    "}\n",
    "data2 ={\n",
    "    \"quaified\":[True,False,False]\n",
    "}\n",
    "df1=pd.DataFrame(data1)\n",
    "print(\"Original DataFrame 1\",df1)\n",
    "df2 = pd.DataFrame(data2)\n",
    "print(\"Original Dataframe 2\",df2)\n",
    "newdf = df1.join(df2)\n",
    "print(\"Joining Dataframes\",newdf)"
   ]
  },
  {
   "cell_type": "code",
   "execution_count": 5,
   "id": "5e44dba3",
   "metadata": {},
   "outputs": [
    {
     "name": "stdout",
     "output_type": "stream",
     "text": [
      "\n",
      "Combining DataFrame     0   1\n",
      "0  11  12\n",
      "1  13  14\n"
     ]
    }
   ],
   "source": [
    "df1 = pd.DataFrame([[11,12],[13,14]])\n",
    "df2 = pd.DataFrame([[5,6],[7,8]])\n",
    "def myfunc(a,b):\n",
    "    if (a.sum()>b.sum()):\n",
    "        return a\n",
    "    else:\n",
    "        return b\n",
    "print(\"\\nCombining DataFrame\",df1.combine(df2,myfunc))"
   ]
  },
  {
   "cell_type": "code",
   "execution_count": 9,
   "id": "63969282",
   "metadata": {},
   "outputs": [
    {
     "name": "stdout",
     "output_type": "stream",
     "text": [
      "      name  age\n",
      "0  Sooriya  100\n",
      "1    Rahul   90\n",
      "2   Nirmal   80\n"
     ]
    }
   ],
   "source": [
    "data1 = {\n",
    "    \"name\":[\"Abu\",\"Selva\",\"Nishanth\"],\n",
    "    \"age\" :[50,40,30]\n",
    "}\n",
    "data2 ={\n",
    "    \"name\":[\"Sooriya\",\"Rahul\",\"Nirmal\"],\n",
    "    \"age\" :[100,90,80]\n",
    "}\n",
    "df1=pd.DataFrame(data1)\n",
    "df2 = pd.DataFrame(data2)\n",
    "newdf = df1.merge(df2,how = \"right\")\n",
    "print(newdf)"
   ]
  },
  {
   "cell_type": "code",
   "execution_count": 37,
   "id": "f744995d",
   "metadata": {},
   "outputs": [
    {
     "name": "stdout",
     "output_type": "stream",
     "text": [
      "  team  points  assists  rebounds\n",
      "0    A      88       12        22\n",
      "1    B      91       17        28\n",
      "2    C      99       24        30\n",
      "3    D      94       28        31\n",
      "Reshaped Dataframe\n",
      "    team  variable  value\n",
      "0     A    points     88\n",
      "1     B    points     91\n",
      "2     C    points     99\n",
      "3     D    points     94\n",
      "4     A   assists     12\n",
      "5     B   assists     17\n",
      "6     C   assists     24\n",
      "7     D   assists     28\n",
      "8     A  rebounds     22\n",
      "9     B  rebounds     28\n",
      "10    C  rebounds     30\n",
      "11    D  rebounds     31\n"
     ]
    }
   ],
   "source": [
    "df = pd.DataFrame({'team':['A','B','C','D'],\n",
    "                  'points':[88,91,99,94],\n",
    "                  'assists':[12,17,24,28],\n",
    "                  'rebounds':[22,28,30,31]})\n",
    "print(df)\n",
    "df = pd.melt(df,id_vars='team',value_vars=['points','assists','rebounds'])\n",
    "print(\"Reshaped Dataframe\\n\",df)"
   ]
  },
  {
   "cell_type": "code",
   "execution_count": null,
   "id": "901cd481",
   "metadata": {},
   "outputs": [],
   "source": [
    "\n"
   ]
  },
  {
   "cell_type": "code",
   "execution_count": null,
   "id": "1bed1197",
   "metadata": {},
   "outputs": [],
   "source": []
  }
 ],
 "metadata": {
  "kernelspec": {
   "display_name": "Python 3 (ipykernel)",
   "language": "python",
   "name": "python3"
  },
  "language_info": {
   "codemirror_mode": {
    "name": "ipython",
    "version": 3
   },
   "file_extension": ".py",
   "mimetype": "text/x-python",
   "name": "python",
   "nbconvert_exporter": "python",
   "pygments_lexer": "ipython3",
   "version": "3.9.13"
  }
 },
 "nbformat": 4,
 "nbformat_minor": 5
}
