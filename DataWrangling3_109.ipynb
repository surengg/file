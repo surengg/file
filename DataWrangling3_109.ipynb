{
 "cells": [
  {
   "cell_type": "code",
   "execution_count": 5,
   "id": "4a1dfe6c",
   "metadata": {},
   "outputs": [
    {
     "name": "stdout",
     "output_type": "stream",
     "text": [
      "Original DataFrame:\n",
      "        Name  Marks  Roll_no\n",
      "0  Nishanth     65       65\n",
      "1       Abu     56       98\n",
      "2     Selva     56       95\n",
      "3   Sooriya     78      105\n",
      "4     Rahul     45       78\n",
      "5   Maanesh     65      106\n"
     ]
    }
   ],
   "source": [
    "import pandas as pd\n",
    "df = pd.DataFrame({\n",
    "    'Name':['Nishanth','Abu','Selva','Sooriya','Rahul','Maanesh'],\n",
    "    'Marks':[65,56,56,78,45,65],\n",
    "    'Roll_no':[65,98,95,105,78,106]\n",
    "})\n",
    "print(\"Original DataFrame:\\n\",df)"
   ]
  },
  {
   "cell_type": "code",
   "execution_count": 6,
   "id": "4aa3fa28",
   "metadata": {},
   "outputs": [
    {
     "name": "stdout",
     "output_type": "stream",
     "text": [
      "Group by Marks 65:\n",
      "        Name  Marks  Roll_no\n",
      "0  Nishanth     65       65\n",
      "5   Maanesh     65      106\n"
     ]
    }
   ],
   "source": [
    "grouped = df.groupby('Marks')\n",
    "print(\"Group by Marks 65:\\n\",grouped.get_group(65))"
   ]
  },
  {
   "cell_type": "code",
   "execution_count": 10,
   "id": "734f0dc1",
   "metadata": {},
   "outputs": [
    {
     "name": "stdout",
     "output_type": "stream",
     "text": [
      "      Name  Marks  Roll_no\n",
      "2    Selva     56       95\n",
      "5  Maanesh     65      106\n"
     ]
    }
   ],
   "source": [
    "df = pd.DataFrame({\n",
    "    'Name':['Nishanth','Abu','Selva','Sooriya','Rahul','Maanesh'],\n",
    "    'Marks':[65,56,56,78,45,65],\n",
    "    'Roll_no':[65,98,95,105,78,106]})\n",
    "nd = df[df.duplicated('Marks')]\n",
    "print(nd)"
   ]
  },
  {
   "cell_type": "code",
   "execution_count": 13,
   "id": "e2fa0b47",
   "metadata": {},
   "outputs": [
    {
     "name": "stdout",
     "output_type": "stream",
     "text": [
      "\n",
      "Merged Dataframe:\n",
      "    ID      Name Branch Pending\n",
      "0   1  Nishanth    EEE     NIL\n",
      "1   2       Abu   Mech    9885\n",
      "2   3     Selva    ECE    9576\n",
      "3   4   Sooriya     AE  105901\n",
      "4   5     Rahul    ECE    7875\n"
     ]
    }
   ],
   "source": [
    "details = pd.DataFrame({\n",
    "    'ID':[1,2,3,4,5],\n",
    "    'Name':['Nishanth','Abu','Selva','Sooriya','Rahul'],\n",
    "    'Branch':['EEE','Mech','ECE','AE','ECE']\n",
    "})\n",
    "fees_status = pd.DataFrame({\n",
    "    'ID':[1,2,3,4,5],\n",
    "    'Pending':['NIL',9885,9576,105901,7875],\n",
    "})\n",
    "print('\\nMerged Dataframe:\\n',pd.merge(details,fees_status,on='ID'))"
   ]
  }
 ],
 "metadata": {
  "kernelspec": {
   "display_name": "Python 3 (ipykernel)",
   "language": "python",
   "name": "python3"
  },
  "language_info": {
   "codemirror_mode": {
    "name": "ipython",
    "version": 3
   },
   "file_extension": ".py",
   "mimetype": "text/x-python",
   "name": "python",
   "nbconvert_exporter": "python",
   "pygments_lexer": "ipython3",
   "version": "3.11.5"
  }
 },
 "nbformat": 4,
 "nbformat_minor": 5
}
