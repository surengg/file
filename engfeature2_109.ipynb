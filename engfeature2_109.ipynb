{
  "metadata": {
    "kernelspec": {
      "name": "python",
      "display_name": "Python (Pyodide)",
      "language": "python"
    },
    "language_info": {
      "codemirror_mode": {
        "name": "python",
        "version": 3
      },
      "file_extension": ".py",
      "mimetype": "text/x-python",
      "name": "python",
      "nbconvert_exporter": "python",
      "pygments_lexer": "ipython3",
      "version": "3.8"
    }
  },
  "nbformat_minor": 4,
  "nbformat": 4,
  "cells": [
    {
      "cell_type": "code",
      "source": "import pandas as pd\n\nimport numpy as np\ndf = pd.DataFrame({'Height': [150.4, 157.6, 170, 176, 164.2, 155, 159.2, 175, 162.4, 176, 153, 170.9]})\n\nprint(\"Before: \")\nprint(df)\n\ndf['Label'] = pd.cut(x=df['Height'], bins=[150, 157, 169, 180], labels=['Short', 'Average', 'Tall'])\n\nprint(\"After: \")\nprint(df)\n\nprint(\"Categories: \")\nprint(df['Label'].value_counts())",
      "metadata": {
        "trusted": true
      },
      "outputs": [
        {
          "name": "stderr",
          "text": "<ipython-input-1-31ce29c2918f>:1: DeprecationWarning: \nPyarrow will become a required dependency of pandas in the next major release of pandas (pandas 3.0),\n(to allow more performant data types, such as the Arrow string type, and better interoperability with other libraries)\nbut was not found to be installed on your system.\nIf this would cause problems for you,\nplease provide us feedback at https://github.com/pandas-dev/pandas/issues/54466\n        \n  import pandas as pd\n",
          "output_type": "stream"
        },
        {
          "name": "stdout",
          "text": "Before: \n    Height\n0    150.4\n1    157.6\n2    170.0\n3    176.0\n4    164.2\n5    155.0\n6    159.2\n7    175.0\n8    162.4\n9    176.0\n10   153.0\n11   170.9\nAfter: \n    Height    Label\n0    150.4    Short\n1    157.6  Average\n2    170.0     Tall\n3    176.0     Tall\n4    164.2  Average\n5    155.0    Short\n6    159.2  Average\n7    175.0     Tall\n8    162.4  Average\n9    176.0     Tall\n10   153.0    Short\n11   170.9     Tall\nCategories: \nLabel\nTall       5\nAverage    4\nShort      3\nName: count, dtype: int64\n",
          "output_type": "stream"
        }
      ],
      "execution_count": 1
    },
    {
      "cell_type": "code",
      "source": "",
      "metadata": {
        "trusted": true
      },
      "outputs": [],
      "execution_count": null
    }
  ]
}