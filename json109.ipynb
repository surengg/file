{
 "cells": [
  {
   "cell_type": "code",
   "execution_count": 1,
   "id": "93dc0156",
   "metadata": {},
   "outputs": [],
   "source": [
    "f = open(\"D:/220901065.txt\",'w')\n",
    "f.write(\"Hello\\n\")\n",
    "f.write(\"Hii\\n\")\n",
    "f.write(\"Bye\\n\")\n",
    "f.close()"
   ]
  },
  {
   "cell_type": "code",
   "execution_count": 6,
   "id": "43347c03",
   "metadata": {},
   "outputs": [
    {
     "name": "stdout",
     "output_type": "stream",
     "text": [
      "Hell\n"
     ]
    }
   ],
   "source": [
    "k = open(\"D:/220901065.txt\",'r')\n",
    "print(k.readline(4))\n",
    "k.close()"
   ]
  },
  {
   "cell_type": "code",
   "execution_count": 8,
   "id": "c4dffbef",
   "metadata": {},
   "outputs": [],
   "source": [
    "m = open(\"D:/220901065.txt\",'a')\n",
    "m.write(\"tata\\n\")\n",
    "m.write(\"boiii boioiii\\n\")\n",
    "m.close()"
   ]
  },
  {
   "cell_type": "code",
   "execution_count": 10,
   "id": "5cb99e77",
   "metadata": {},
   "outputs": [
    {
     "name": "stdout",
     "output_type": "stream",
     "text": [
      "Hello\n",
      "Hii\n",
      "Bye\n",
      "tata\n",
      "boiii boioiii\n",
      "\n"
     ]
    }
   ],
   "source": [
    "p = open(\"D:/220901065.txt\")\n",
    "print(p.read())\n",
    "p.close()"
   ]
  },
  {
   "cell_type": "code",
   "execution_count": 11,
   "id": "7919e7e2",
   "metadata": {},
   "outputs": [
    {
     "name": "stdout",
     "output_type": "stream",
     "text": [
      "['Hello\\n', 'Hii\\n', 'Bye\\n', 'tata\\n', 'boiii boioiii\\n']\n"
     ]
    }
   ],
   "source": [
    "with open(\"D:/220901065.txt\",'r')as file:\n",
    "    lines = file.readlines()\n",
    "    print(lines)"
   ]
  },
  {
   "cell_type": "code",
   "execution_count": 25,
   "id": "39c6102d",
   "metadata": {},
   "outputs": [
    {
     "name": "stdout",
     "output_type": "stream",
     "text": [
      "Ramanathapuram\n"
     ]
    }
   ],
   "source": [
    "import json\n",
    "x = '{\"name\":\"Abu\",\"rollno\":98,\"city\":\"Ramanathapuram\"}'\n",
    "y = json.loads(x)\n",
    "print(y[\"city\"])"
   ]
  },
  {
   "cell_type": "code",
   "execution_count": 26,
   "id": "6a893717",
   "metadata": {},
   "outputs": [
    {
     "name": "stdout",
     "output_type": "stream",
     "text": [
      "\"{\\\"name\\\":\\\"Abu\\\",\\\"rollno\\\":98,\\\"city\\\":\\\"Ramanathapuram\\\"}\"\n"
     ]
    }
   ],
   "source": [
    "x  \n",
    "{\n",
    "    \"name\":\"Abu\",\n",
    "    \"rollno\": 98,\n",
    "    \"city\":\"Ramanathapuram\",\n",
    "}\n",
    "\n",
    "y = json.dumps(x)\n",
    "print(y)"
   ]
  },
  {
   "cell_type": "code",
   "execution_count": null,
   "id": "4aedf90b",
   "metadata": {},
   "outputs": [],
   "source": []
  },
  {
   "cell_type": "code",
   "execution_count": null,
   "id": "10a60974",
   "metadata": {},
   "outputs": [],
   "source": []
  },
  {
   "cell_type": "code",
   "execution_count": null,
   "id": "8bfde1fd",
   "metadata": {},
   "outputs": [],
   "source": []
  },
  {
   "cell_type": "code",
   "execution_count": null,
   "id": "602feb49",
   "metadata": {},
   "outputs": [],
   "source": []
  }
 ],
 "metadata": {
  "kernelspec": {
   "display_name": "Python 3 (ipykernel)",
   "language": "python",
   "name": "python3"
  },
  "language_info": {
   "codemirror_mode": {
    "name": "ipython",
    "version": 3
   },
   "file_extension": ".py",
   "mimetype": "text/x-python",
   "name": "python",
   "nbconvert_exporter": "python",
   "pygments_lexer": "ipython3",
   "version": "3.9.12"
  }
 },
 "nbformat": 4,
 "nbformat_minor": 5
}
